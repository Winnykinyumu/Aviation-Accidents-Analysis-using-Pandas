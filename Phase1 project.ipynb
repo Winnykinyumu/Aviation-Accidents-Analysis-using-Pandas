{
 "cells": [
  {
   "cell_type": "markdown",
   "metadata": {},
   "source": [
    "**Business Understanding**\n",
    "\n",
    "This analysis involves determinning aircrafts which are of low risk so as to guide an organization in purchasing and operating airplanes for commercial and private enterprises."
   ]
  },
  {
   "cell_type": "markdown",
   "metadata": {},
   "source": [
    "**Data Understanding**"
   ]
  },
  {
   "cell_type": "code",
   "execution_count": 1,
   "metadata": {},
   "outputs": [],
   "source": [
    "import pandas as pd\n",
    "import matplotlib.pyplot as plt\n",
    "import seaborn as sns\n",
    "%matplotlib inline"
   ]
  },
  {
   "cell_type": "code",
   "execution_count": 2,
   "metadata": {},
   "outputs": [
    {
     "data": {
      "text/html": [
       "<div>\n",
       "<style scoped>\n",
       "    .dataframe tbody tr th:only-of-type {\n",
       "        vertical-align: middle;\n",
       "    }\n",
       "\n",
       "    .dataframe tbody tr th {\n",
       "        vertical-align: top;\n",
       "    }\n",
       "\n",
       "    .dataframe thead th {\n",
       "        text-align: right;\n",
       "    }\n",
       "</style>\n",
       "<table border=\"1\" class=\"dataframe\">\n",
       "  <thead>\n",
       "    <tr style=\"text-align: right;\">\n",
       "      <th></th>\n",
       "      <th>Event.Id</th>\n",
       "      <th>Investigation.Type</th>\n",
       "      <th>Accident.Number</th>\n",
       "      <th>Event.Date</th>\n",
       "      <th>Location</th>\n",
       "      <th>Country</th>\n",
       "      <th>Latitude</th>\n",
       "      <th>Longitude</th>\n",
       "      <th>Airport.Code</th>\n",
       "      <th>Airport.Name</th>\n",
       "      <th>...</th>\n",
       "      <th>Purpose.of.flight</th>\n",
       "      <th>Air.carrier</th>\n",
       "      <th>Total.Fatal.Injuries</th>\n",
       "      <th>Total.Serious.Injuries</th>\n",
       "      <th>Total.Minor.Injuries</th>\n",
       "      <th>Total.Uninjured</th>\n",
       "      <th>Weather.Condition</th>\n",
       "      <th>Broad.phase.of.flight</th>\n",
       "      <th>Report.Status</th>\n",
       "      <th>Publication.Date</th>\n",
       "    </tr>\n",
       "  </thead>\n",
       "  <tbody>\n",
       "    <tr>\n",
       "      <th>0</th>\n",
       "      <td>20001218X45444</td>\n",
       "      <td>Accident</td>\n",
       "      <td>SEA87LA080</td>\n",
       "      <td>24/10/1948</td>\n",
       "      <td>MOOSE CREEK, ID</td>\n",
       "      <td>United States</td>\n",
       "      <td>NaN</td>\n",
       "      <td>NaN</td>\n",
       "      <td>NaN</td>\n",
       "      <td>NaN</td>\n",
       "      <td>...</td>\n",
       "      <td>Personal</td>\n",
       "      <td>NaN</td>\n",
       "      <td>2.0</td>\n",
       "      <td>0.0</td>\n",
       "      <td>0.0</td>\n",
       "      <td>0.0</td>\n",
       "      <td>UNK</td>\n",
       "      <td>Cruise</td>\n",
       "      <td>Probable Cause</td>\n",
       "      <td>NaN</td>\n",
       "    </tr>\n",
       "    <tr>\n",
       "      <th>1</th>\n",
       "      <td>20001218X45447</td>\n",
       "      <td>Accident</td>\n",
       "      <td>LAX94LA336</td>\n",
       "      <td>19/07/1962</td>\n",
       "      <td>BRIDGEPORT, CA</td>\n",
       "      <td>United States</td>\n",
       "      <td>NaN</td>\n",
       "      <td>NaN</td>\n",
       "      <td>NaN</td>\n",
       "      <td>NaN</td>\n",
       "      <td>...</td>\n",
       "      <td>Personal</td>\n",
       "      <td>NaN</td>\n",
       "      <td>4.0</td>\n",
       "      <td>0.0</td>\n",
       "      <td>0.0</td>\n",
       "      <td>0.0</td>\n",
       "      <td>UNK</td>\n",
       "      <td>Unknown</td>\n",
       "      <td>Probable Cause</td>\n",
       "      <td>19/09/1996</td>\n",
       "    </tr>\n",
       "    <tr>\n",
       "      <th>2</th>\n",
       "      <td>20061025X01555</td>\n",
       "      <td>Accident</td>\n",
       "      <td>NYC07LA005</td>\n",
       "      <td>30/08/1974</td>\n",
       "      <td>Saltville, VA</td>\n",
       "      <td>United States</td>\n",
       "      <td>36.922223</td>\n",
       "      <td>-81.878056</td>\n",
       "      <td>NaN</td>\n",
       "      <td>NaN</td>\n",
       "      <td>...</td>\n",
       "      <td>Personal</td>\n",
       "      <td>NaN</td>\n",
       "      <td>3.0</td>\n",
       "      <td>NaN</td>\n",
       "      <td>NaN</td>\n",
       "      <td>NaN</td>\n",
       "      <td>IMC</td>\n",
       "      <td>Cruise</td>\n",
       "      <td>Probable Cause</td>\n",
       "      <td>26/02/2007</td>\n",
       "    </tr>\n",
       "    <tr>\n",
       "      <th>3</th>\n",
       "      <td>20001218X45448</td>\n",
       "      <td>Accident</td>\n",
       "      <td>LAX96LA321</td>\n",
       "      <td>19/06/1977</td>\n",
       "      <td>EUREKA, CA</td>\n",
       "      <td>United States</td>\n",
       "      <td>NaN</td>\n",
       "      <td>NaN</td>\n",
       "      <td>NaN</td>\n",
       "      <td>NaN</td>\n",
       "      <td>...</td>\n",
       "      <td>Personal</td>\n",
       "      <td>NaN</td>\n",
       "      <td>2.0</td>\n",
       "      <td>0.0</td>\n",
       "      <td>0.0</td>\n",
       "      <td>0.0</td>\n",
       "      <td>IMC</td>\n",
       "      <td>Cruise</td>\n",
       "      <td>Probable Cause</td>\n",
       "      <td>12/09/2000</td>\n",
       "    </tr>\n",
       "    <tr>\n",
       "      <th>4</th>\n",
       "      <td>20041105X01764</td>\n",
       "      <td>Accident</td>\n",
       "      <td>CHI79FA064</td>\n",
       "      <td>02/08/1979</td>\n",
       "      <td>Canton, OH</td>\n",
       "      <td>United States</td>\n",
       "      <td>NaN</td>\n",
       "      <td>NaN</td>\n",
       "      <td>NaN</td>\n",
       "      <td>NaN</td>\n",
       "      <td>...</td>\n",
       "      <td>Personal</td>\n",
       "      <td>NaN</td>\n",
       "      <td>1.0</td>\n",
       "      <td>2.0</td>\n",
       "      <td>NaN</td>\n",
       "      <td>0.0</td>\n",
       "      <td>VMC</td>\n",
       "      <td>Approach</td>\n",
       "      <td>Probable Cause</td>\n",
       "      <td>16/04/1980</td>\n",
       "    </tr>\n",
       "    <tr>\n",
       "      <th>...</th>\n",
       "      <td>...</td>\n",
       "      <td>...</td>\n",
       "      <td>...</td>\n",
       "      <td>...</td>\n",
       "      <td>...</td>\n",
       "      <td>...</td>\n",
       "      <td>...</td>\n",
       "      <td>...</td>\n",
       "      <td>...</td>\n",
       "      <td>...</td>\n",
       "      <td>...</td>\n",
       "      <td>...</td>\n",
       "      <td>...</td>\n",
       "      <td>...</td>\n",
       "      <td>...</td>\n",
       "      <td>...</td>\n",
       "      <td>...</td>\n",
       "      <td>...</td>\n",
       "      <td>...</td>\n",
       "      <td>...</td>\n",
       "      <td>...</td>\n",
       "    </tr>\n",
       "    <tr>\n",
       "      <th>88884</th>\n",
       "      <td>2.02E+13</td>\n",
       "      <td>Accident</td>\n",
       "      <td>ERA23LA093</td>\n",
       "      <td>26/12/2022</td>\n",
       "      <td>Annapolis, MD</td>\n",
       "      <td>United States</td>\n",
       "      <td>NaN</td>\n",
       "      <td>NaN</td>\n",
       "      <td>NaN</td>\n",
       "      <td>NaN</td>\n",
       "      <td>...</td>\n",
       "      <td>Personal</td>\n",
       "      <td>NaN</td>\n",
       "      <td>0.0</td>\n",
       "      <td>1.0</td>\n",
       "      <td>0.0</td>\n",
       "      <td>0.0</td>\n",
       "      <td>NaN</td>\n",
       "      <td>NaN</td>\n",
       "      <td>NaN</td>\n",
       "      <td>29/12/2022</td>\n",
       "    </tr>\n",
       "    <tr>\n",
       "      <th>88885</th>\n",
       "      <td>2.02E+13</td>\n",
       "      <td>Accident</td>\n",
       "      <td>ERA23LA095</td>\n",
       "      <td>26/12/2022</td>\n",
       "      <td>Hampton, NH</td>\n",
       "      <td>United States</td>\n",
       "      <td>NaN</td>\n",
       "      <td>NaN</td>\n",
       "      <td>NaN</td>\n",
       "      <td>NaN</td>\n",
       "      <td>...</td>\n",
       "      <td>NaN</td>\n",
       "      <td>NaN</td>\n",
       "      <td>0.0</td>\n",
       "      <td>0.0</td>\n",
       "      <td>0.0</td>\n",
       "      <td>0.0</td>\n",
       "      <td>NaN</td>\n",
       "      <td>NaN</td>\n",
       "      <td>NaN</td>\n",
       "      <td>NaN</td>\n",
       "    </tr>\n",
       "    <tr>\n",
       "      <th>88886</th>\n",
       "      <td>2.02E+13</td>\n",
       "      <td>Accident</td>\n",
       "      <td>WPR23LA075</td>\n",
       "      <td>26/12/2022</td>\n",
       "      <td>Payson, AZ</td>\n",
       "      <td>United States</td>\n",
       "      <td>341525N</td>\n",
       "      <td>1112021W</td>\n",
       "      <td>PAN</td>\n",
       "      <td>PAYSON</td>\n",
       "      <td>...</td>\n",
       "      <td>Personal</td>\n",
       "      <td>NaN</td>\n",
       "      <td>0.0</td>\n",
       "      <td>0.0</td>\n",
       "      <td>0.0</td>\n",
       "      <td>1.0</td>\n",
       "      <td>VMC</td>\n",
       "      <td>NaN</td>\n",
       "      <td>NaN</td>\n",
       "      <td>27/12/2022</td>\n",
       "    </tr>\n",
       "    <tr>\n",
       "      <th>88887</th>\n",
       "      <td>2.02E+13</td>\n",
       "      <td>Accident</td>\n",
       "      <td>WPR23LA076</td>\n",
       "      <td>26/12/2022</td>\n",
       "      <td>Morgan, UT</td>\n",
       "      <td>United States</td>\n",
       "      <td>NaN</td>\n",
       "      <td>NaN</td>\n",
       "      <td>NaN</td>\n",
       "      <td>NaN</td>\n",
       "      <td>...</td>\n",
       "      <td>Personal</td>\n",
       "      <td>MC CESSNA 210N LLC</td>\n",
       "      <td>0.0</td>\n",
       "      <td>0.0</td>\n",
       "      <td>0.0</td>\n",
       "      <td>0.0</td>\n",
       "      <td>NaN</td>\n",
       "      <td>NaN</td>\n",
       "      <td>NaN</td>\n",
       "      <td>NaN</td>\n",
       "    </tr>\n",
       "    <tr>\n",
       "      <th>88888</th>\n",
       "      <td>2.02E+13</td>\n",
       "      <td>Accident</td>\n",
       "      <td>ERA23LA097</td>\n",
       "      <td>29/12/2022</td>\n",
       "      <td>Athens, GA</td>\n",
       "      <td>United States</td>\n",
       "      <td>NaN</td>\n",
       "      <td>NaN</td>\n",
       "      <td>NaN</td>\n",
       "      <td>NaN</td>\n",
       "      <td>...</td>\n",
       "      <td>Personal</td>\n",
       "      <td>NaN</td>\n",
       "      <td>0.0</td>\n",
       "      <td>1.0</td>\n",
       "      <td>0.0</td>\n",
       "      <td>1.0</td>\n",
       "      <td>NaN</td>\n",
       "      <td>NaN</td>\n",
       "      <td>NaN</td>\n",
       "      <td>30/12/2022</td>\n",
       "    </tr>\n",
       "  </tbody>\n",
       "</table>\n",
       "<p>88889 rows × 31 columns</p>\n",
       "</div>"
      ],
      "text/plain": [
       "             Event.Id Investigation.Type Accident.Number  Event.Date  \\\n",
       "0      20001218X45444           Accident      SEA87LA080  24/10/1948   \n",
       "1      20001218X45447           Accident      LAX94LA336  19/07/1962   \n",
       "2      20061025X01555           Accident      NYC07LA005  30/08/1974   \n",
       "3      20001218X45448           Accident      LAX96LA321  19/06/1977   \n",
       "4      20041105X01764           Accident      CHI79FA064  02/08/1979   \n",
       "...               ...                ...             ...         ...   \n",
       "88884        2.02E+13           Accident      ERA23LA093  26/12/2022   \n",
       "88885        2.02E+13           Accident      ERA23LA095  26/12/2022   \n",
       "88886        2.02E+13           Accident      WPR23LA075  26/12/2022   \n",
       "88887        2.02E+13           Accident      WPR23LA076  26/12/2022   \n",
       "88888        2.02E+13           Accident      ERA23LA097  29/12/2022   \n",
       "\n",
       "              Location        Country   Latitude   Longitude Airport.Code  \\\n",
       "0      MOOSE CREEK, ID  United States        NaN         NaN          NaN   \n",
       "1       BRIDGEPORT, CA  United States        NaN         NaN          NaN   \n",
       "2        Saltville, VA  United States  36.922223  -81.878056          NaN   \n",
       "3           EUREKA, CA  United States        NaN         NaN          NaN   \n",
       "4           Canton, OH  United States        NaN         NaN          NaN   \n",
       "...                ...            ...        ...         ...          ...   \n",
       "88884    Annapolis, MD  United States        NaN         NaN          NaN   \n",
       "88885      Hampton, NH  United States        NaN         NaN          NaN   \n",
       "88886       Payson, AZ  United States    341525N    1112021W          PAN   \n",
       "88887       Morgan, UT  United States        NaN         NaN          NaN   \n",
       "88888       Athens, GA  United States        NaN         NaN          NaN   \n",
       "\n",
       "      Airport.Name  ... Purpose.of.flight         Air.carrier  \\\n",
       "0              NaN  ...          Personal                 NaN   \n",
       "1              NaN  ...          Personal                 NaN   \n",
       "2              NaN  ...          Personal                 NaN   \n",
       "3              NaN  ...          Personal                 NaN   \n",
       "4              NaN  ...          Personal                 NaN   \n",
       "...            ...  ...               ...                 ...   \n",
       "88884          NaN  ...          Personal                 NaN   \n",
       "88885          NaN  ...               NaN                 NaN   \n",
       "88886       PAYSON  ...          Personal                 NaN   \n",
       "88887          NaN  ...          Personal  MC CESSNA 210N LLC   \n",
       "88888          NaN  ...          Personal                 NaN   \n",
       "\n",
       "      Total.Fatal.Injuries Total.Serious.Injuries Total.Minor.Injuries  \\\n",
       "0                      2.0                    0.0                  0.0   \n",
       "1                      4.0                    0.0                  0.0   \n",
       "2                      3.0                    NaN                  NaN   \n",
       "3                      2.0                    0.0                  0.0   \n",
       "4                      1.0                    2.0                  NaN   \n",
       "...                    ...                    ...                  ...   \n",
       "88884                  0.0                    1.0                  0.0   \n",
       "88885                  0.0                    0.0                  0.0   \n",
       "88886                  0.0                    0.0                  0.0   \n",
       "88887                  0.0                    0.0                  0.0   \n",
       "88888                  0.0                    1.0                  0.0   \n",
       "\n",
       "      Total.Uninjured Weather.Condition  Broad.phase.of.flight  \\\n",
       "0                 0.0               UNK                 Cruise   \n",
       "1                 0.0               UNK                Unknown   \n",
       "2                 NaN               IMC                 Cruise   \n",
       "3                 0.0               IMC                 Cruise   \n",
       "4                 0.0               VMC               Approach   \n",
       "...               ...               ...                    ...   \n",
       "88884             0.0               NaN                    NaN   \n",
       "88885             0.0               NaN                    NaN   \n",
       "88886             1.0               VMC                    NaN   \n",
       "88887             0.0               NaN                    NaN   \n",
       "88888             1.0               NaN                    NaN   \n",
       "\n",
       "        Report.Status Publication.Date  \n",
       "0      Probable Cause              NaN  \n",
       "1      Probable Cause       19/09/1996  \n",
       "2      Probable Cause       26/02/2007  \n",
       "3      Probable Cause       12/09/2000  \n",
       "4      Probable Cause       16/04/1980  \n",
       "...               ...              ...  \n",
       "88884             NaN       29/12/2022  \n",
       "88885             NaN              NaN  \n",
       "88886             NaN       27/12/2022  \n",
       "88887             NaN              NaN  \n",
       "88888             NaN       30/12/2022  \n",
       "\n",
       "[88889 rows x 31 columns]"
      ]
     },
     "execution_count": 2,
     "metadata": {},
     "output_type": "execute_result"
    }
   ],
   "source": [
    "# Loading the dataset\n",
    "df=pd.read_csv(r'C:\\Users\\User\\Downloads\\Aviation Data.csv',encoding='ISO-8859-1',low_memory=False)\n",
    "df"
   ]
  },
  {
   "cell_type": "code",
   "execution_count": 3,
   "metadata": {},
   "outputs": [
    {
     "data": {
      "text/plain": [
       "(88889, 31)"
      ]
     },
     "execution_count": 3,
     "metadata": {},
     "output_type": "execute_result"
    }
   ],
   "source": [
    "#Confirming the number of columns and rows in my dataset\n",
    "df.shape"
   ]
  },
  {
   "cell_type": "code",
   "execution_count": 4,
   "metadata": {},
   "outputs": [
    {
     "name": "stdout",
     "output_type": "stream",
     "text": [
      "<class 'pandas.core.frame.DataFrame'>\n",
      "RangeIndex: 88889 entries, 0 to 88888\n",
      "Data columns (total 31 columns):\n",
      " #   Column                  Non-Null Count  Dtype  \n",
      "---  ------                  --------------  -----  \n",
      " 0   Event.Id                88889 non-null  object \n",
      " 1   Investigation.Type      88889 non-null  object \n",
      " 2   Accident.Number         88889 non-null  object \n",
      " 3   Event.Date              88889 non-null  object \n",
      " 4   Location                88837 non-null  object \n",
      " 5   Country                 88663 non-null  object \n",
      " 6   Latitude                34382 non-null  object \n",
      " 7   Longitude               34373 non-null  object \n",
      " 8   Airport.Code            50249 non-null  object \n",
      " 9   Airport.Name            52790 non-null  object \n",
      " 10  Injury.Severity         87889 non-null  object \n",
      " 11  Aircraft.damage         85695 non-null  object \n",
      " 12  Aircraft.Category       32287 non-null  object \n",
      " 13  Registration.Number     87572 non-null  object \n",
      " 14  Make                    88826 non-null  object \n",
      " 15  Model                   88797 non-null  object \n",
      " 16  Amateur.Built           88787 non-null  object \n",
      " 17  Number.of.Engines       82805 non-null  float64\n",
      " 18  Engine.Type             81812 non-null  object \n",
      " 19  FAR.Description         32023 non-null  object \n",
      " 20  Schedule                12582 non-null  object \n",
      " 21  Purpose.of.flight       82697 non-null  object \n",
      " 22  Air.carrier             16648 non-null  object \n",
      " 23  Total.Fatal.Injuries    77488 non-null  float64\n",
      " 24  Total.Serious.Injuries  76379 non-null  float64\n",
      " 25  Total.Minor.Injuries    76956 non-null  float64\n",
      " 26  Total.Uninjured         82977 non-null  float64\n",
      " 27  Weather.Condition       84397 non-null  object \n",
      " 28  Broad.phase.of.flight   61724 non-null  object \n",
      " 29  Report.Status           82508 non-null  object \n",
      " 30  Publication.Date        75118 non-null  object \n",
      "dtypes: float64(5), object(26)\n",
      "memory usage: 21.0+ MB\n"
     ]
    }
   ],
   "source": [
    "# Checking for datatypes in each column\n",
    "df.info()"
   ]
  },
  {
   "cell_type": "code",
   "execution_count": 5,
   "metadata": {},
   "outputs": [
    {
     "data": {
      "text/plain": [
       "Index(['Event.Id', 'Investigation.Type', 'Accident.Number', 'Event.Date',\n",
       "       'Location', 'Country', 'Latitude', 'Longitude', 'Airport.Code',\n",
       "       'Airport.Name', 'Injury.Severity', 'Aircraft.damage',\n",
       "       'Aircraft.Category', 'Registration.Number', 'Make', 'Model',\n",
       "       'Amateur.Built', 'Number.of.Engines', 'Engine.Type', 'FAR.Description',\n",
       "       'Schedule', 'Purpose.of.flight', 'Air.carrier', 'Total.Fatal.Injuries',\n",
       "       'Total.Serious.Injuries', 'Total.Minor.Injuries', 'Total.Uninjured',\n",
       "       'Weather.Condition', 'Broad.phase.of.flight', 'Report.Status',\n",
       "       'Publication.Date'],\n",
       "      dtype='object')"
      ]
     },
     "execution_count": 5,
     "metadata": {},
     "output_type": "execute_result"
    }
   ],
   "source": [
    "# Confirming the different columns in my dataset\n",
    "df.columns"
   ]
  },
  {
   "cell_type": "code",
   "execution_count": 6,
   "metadata": {},
   "outputs": [
    {
     "data": {
      "text/plain": [
       "0      Fatal(2)\n",
       "1      Fatal(4)\n",
       "2      Fatal(3)\n",
       "3      Fatal(2)\n",
       "4      Fatal(1)\n",
       "5     Non-Fatal\n",
       "6      Fatal(4)\n",
       "7     Non-Fatal\n",
       "8     Non-Fatal\n",
       "9     Non-Fatal\n",
       "10    Non-Fatal\n",
       "11    Non-Fatal\n",
       "12    Non-Fatal\n",
       "13     Fatal(1)\n",
       "14     Fatal(1)\n",
       "15     Fatal(2)\n",
       "16    Non-Fatal\n",
       "17     Fatal(3)\n",
       "18    Non-Fatal\n",
       "19    Non-Fatal\n",
       "Name: Injury.Severity, dtype: object"
      ]
     },
     "execution_count": 6,
     "metadata": {},
     "output_type": "execute_result"
    }
   ],
   "source": [
    "# Checking the specific components of the key columns in my analysis\n",
    "df['Injury.Severity'].head(20)"
   ]
  },
  {
   "cell_type": "code",
   "execution_count": 10,
   "metadata": {},
   "outputs": [
    {
     "data": {
      "text/plain": [
       "0     United States\n",
       "1     United States\n",
       "2     United States\n",
       "3     United States\n",
       "4     United States\n",
       "          ...      \n",
       "95    United States\n",
       "96    United States\n",
       "97    United States\n",
       "98    United States\n",
       "99    United States\n",
       "Name: Country, Length: 100, dtype: object"
      ]
     },
     "execution_count": 10,
     "metadata": {},
     "output_type": "execute_result"
    }
   ],
   "source": [
    "df['Country'].head(100)"
   ]
  },
  {
   "cell_type": "code",
   "execution_count": 11,
   "metadata": {},
   "outputs": [
    {
     "data": {
      "text/plain": [
       "0        MOOSE CREEK, ID\n",
       "1         BRIDGEPORT, CA\n",
       "2          Saltville, VA\n",
       "3             EUREKA, CA\n",
       "4             Canton, OH\n",
       "              ...       \n",
       "88884      Annapolis, MD\n",
       "88885        Hampton, NH\n",
       "88886         Payson, AZ\n",
       "88887         Morgan, UT\n",
       "88888         Athens, GA\n",
       "Name: Location, Length: 88889, dtype: object"
      ]
     },
     "execution_count": 11,
     "metadata": {},
     "output_type": "execute_result"
    }
   ],
   "source": [
    "df['Location']"
   ]
  },
  {
   "cell_type": "code",
   "execution_count": 12,
   "metadata": {},
   "outputs": [
    {
     "data": {
      "text/plain": [
       "0        SEA87LA080\n",
       "1        LAX94LA336\n",
       "2        NYC07LA005\n",
       "3        LAX96LA321\n",
       "4        CHI79FA064\n",
       "            ...    \n",
       "88884    ERA23LA093\n",
       "88885    ERA23LA095\n",
       "88886    WPR23LA075\n",
       "88887    WPR23LA076\n",
       "88888    ERA23LA097\n",
       "Name: Accident.Number, Length: 88889, dtype: object"
      ]
     },
     "execution_count": 12,
     "metadata": {},
     "output_type": "execute_result"
    }
   ],
   "source": [
    "df['Accident.Number']"
   ]
  },
  {
   "cell_type": "code",
   "execution_count": 13,
   "metadata": {},
   "outputs": [
    {
     "data": {
      "text/plain": [
       "0        UNK\n",
       "1        UNK\n",
       "2        IMC\n",
       "3        IMC\n",
       "4        VMC\n",
       "        ... \n",
       "88884    NaN\n",
       "88885    NaN\n",
       "88886    VMC\n",
       "88887    NaN\n",
       "88888    NaN\n",
       "Name: Weather.Condition, Length: 88889, dtype: object"
      ]
     },
     "execution_count": 13,
     "metadata": {},
     "output_type": "execute_result"
    }
   ],
   "source": [
    "df['Weather.Condition']"
   ]
  },
  {
   "cell_type": "code",
   "execution_count": 14,
   "metadata": {},
   "outputs": [
    {
     "data": {
      "text/plain": [
       "0                           Stinson\n",
       "1                             Piper\n",
       "2                            Cessna\n",
       "3                          Rockwell\n",
       "4                            Cessna\n",
       "                    ...            \n",
       "88884                         PIPER\n",
       "88885                      BELLANCA\n",
       "88886    AMERICAN CHAMPION AIRCRAFT\n",
       "88887                        CESSNA\n",
       "88888                         PIPER\n",
       "Name: Make, Length: 88889, dtype: object"
      ]
     },
     "execution_count": 14,
     "metadata": {},
     "output_type": "execute_result"
    }
   ],
   "source": [
    "df['Make']"
   ]
  },
  {
   "cell_type": "code",
   "execution_count": 24,
   "metadata": {},
   "outputs": [
    {
     "data": {
      "text/plain": [
       "0            108-3\n",
       "1         PA24-180\n",
       "2             172M\n",
       "3              112\n",
       "4              501\n",
       "           ...    \n",
       "88884    PA-28-151\n",
       "88885         7ECA\n",
       "88886        8GCBC\n",
       "88887         210N\n",
       "88888    PA-24-260\n",
       "Name: Model, Length: 88889, dtype: object"
      ]
     },
     "execution_count": 24,
     "metadata": {},
     "output_type": "execute_result"
    }
   ],
   "source": [
    "df['Model']"
   ]
  },
  {
   "cell_type": "code",
   "execution_count": 15,
   "metadata": {},
   "outputs": [
    {
     "data": {
      "text/plain": [
       "0             NaN\n",
       "1             NaN\n",
       "2             NaN\n",
       "3             NaN\n",
       "4             NaN\n",
       "           ...   \n",
       "88884         NaN\n",
       "88885         NaN\n",
       "88886    Airplane\n",
       "88887         NaN\n",
       "88888         NaN\n",
       "Name: Aircraft.Category, Length: 88889, dtype: object"
      ]
     },
     "execution_count": 15,
     "metadata": {},
     "output_type": "execute_result"
    }
   ],
   "source": [
    "df['Aircraft.Category']"
   ]
  },
  {
   "cell_type": "markdown",
   "metadata": {},
   "source": [
    "**Data Cleaning and Preparation**"
   ]
  },
  {
   "cell_type": "code",
   "execution_count": 7,
   "metadata": {},
   "outputs": [
    {
     "data": {
      "text/plain": [
       "Event.Id                      0\n",
       "Investigation.Type            0\n",
       "Accident.Number               0\n",
       "Event.Date                    0\n",
       "Location                     52\n",
       "Country                     226\n",
       "Latitude                  54507\n",
       "Longitude                 54516\n",
       "Airport.Code              38640\n",
       "Airport.Name              36099\n",
       "Injury.Severity            1000\n",
       "Aircraft.damage            3194\n",
       "Aircraft.Category         56602\n",
       "Registration.Number        1317\n",
       "Make                         63\n",
       "Model                        92\n",
       "Amateur.Built               102\n",
       "Number.of.Engines          6084\n",
       "Engine.Type                7077\n",
       "FAR.Description           56866\n",
       "Schedule                  76307\n",
       "Purpose.of.flight          6192\n",
       "Air.carrier               72241\n",
       "Total.Fatal.Injuries      11401\n",
       "Total.Serious.Injuries    12510\n",
       "Total.Minor.Injuries      11933\n",
       "Total.Uninjured            5912\n",
       "Weather.Condition          4492\n",
       "Broad.phase.of.flight     27165\n",
       "Report.Status              6381\n",
       "Publication.Date          13771\n",
       "dtype: int64"
      ]
     },
     "execution_count": 7,
     "metadata": {},
     "output_type": "execute_result"
    }
   ],
   "source": [
    "# Checking for null values\n",
    "df.isna().sum()"
   ]
  },
  {
   "cell_type": "code",
   "execution_count": 8,
   "metadata": {},
   "outputs": [],
   "source": [
    "# I drop the columns whose no of missing values is relatively high compared to the total dataset\n",
    "# I also drop the columns which i do not need for my analysis i.e 'Report.Status','Publication.Date','Aircraft.damage','Engine.Type'.\n",
    "columns_to_drop=['Latitude','Longitude','Airport.Code','Airport.Name','Schedule','Air.carrier','FAR.Description',\n",
    "                 'Aircraft.Category','Broad.phase.of.flight','Report.Status','Publication.Date','Aircraft.damage']\n",
    "df.drop(columns=columns_to_drop,inplace=True)"
   ]
  },
  {
   "cell_type": "code",
   "execution_count": 9,
   "metadata": {},
   "outputs": [
    {
     "data": {
      "text/html": [
       "<div>\n",
       "<style scoped>\n",
       "    .dataframe tbody tr th:only-of-type {\n",
       "        vertical-align: middle;\n",
       "    }\n",
       "\n",
       "    .dataframe tbody tr th {\n",
       "        vertical-align: top;\n",
       "    }\n",
       "\n",
       "    .dataframe thead th {\n",
       "        text-align: right;\n",
       "    }\n",
       "</style>\n",
       "<table border=\"1\" class=\"dataframe\">\n",
       "  <thead>\n",
       "    <tr style=\"text-align: right;\">\n",
       "      <th></th>\n",
       "      <th>Event.Id</th>\n",
       "      <th>Investigation.Type</th>\n",
       "      <th>Accident.Number</th>\n",
       "      <th>Event.Date</th>\n",
       "      <th>Location</th>\n",
       "      <th>Country</th>\n",
       "      <th>Injury.Severity</th>\n",
       "      <th>Registration.Number</th>\n",
       "      <th>Make</th>\n",
       "      <th>Model</th>\n",
       "      <th>Amateur.Built</th>\n",
       "      <th>Number.of.Engines</th>\n",
       "      <th>Engine.Type</th>\n",
       "      <th>Purpose.of.flight</th>\n",
       "      <th>Total.Fatal.Injuries</th>\n",
       "      <th>Total.Serious.Injuries</th>\n",
       "      <th>Total.Minor.Injuries</th>\n",
       "      <th>Total.Uninjured</th>\n",
       "      <th>Weather.Condition</th>\n",
       "    </tr>\n",
       "  </thead>\n",
       "  <tbody>\n",
       "    <tr>\n",
       "      <th>0</th>\n",
       "      <td>20001218X45444</td>\n",
       "      <td>Accident</td>\n",
       "      <td>SEA87LA080</td>\n",
       "      <td>24/10/1948</td>\n",
       "      <td>MOOSE CREEK, ID</td>\n",
       "      <td>United States</td>\n",
       "      <td>Fatal(2)</td>\n",
       "      <td>NC6404</td>\n",
       "      <td>Stinson</td>\n",
       "      <td>108-3</td>\n",
       "      <td>No</td>\n",
       "      <td>1.0</td>\n",
       "      <td>Reciprocating</td>\n",
       "      <td>Personal</td>\n",
       "      <td>2.0</td>\n",
       "      <td>0.0</td>\n",
       "      <td>0.0</td>\n",
       "      <td>0.0</td>\n",
       "      <td>UNK</td>\n",
       "    </tr>\n",
       "    <tr>\n",
       "      <th>1</th>\n",
       "      <td>20001218X45447</td>\n",
       "      <td>Accident</td>\n",
       "      <td>LAX94LA336</td>\n",
       "      <td>19/07/1962</td>\n",
       "      <td>BRIDGEPORT, CA</td>\n",
       "      <td>United States</td>\n",
       "      <td>Fatal(4)</td>\n",
       "      <td>N5069P</td>\n",
       "      <td>Piper</td>\n",
       "      <td>PA24-180</td>\n",
       "      <td>No</td>\n",
       "      <td>1.0</td>\n",
       "      <td>Reciprocating</td>\n",
       "      <td>Personal</td>\n",
       "      <td>4.0</td>\n",
       "      <td>0.0</td>\n",
       "      <td>0.0</td>\n",
       "      <td>0.0</td>\n",
       "      <td>UNK</td>\n",
       "    </tr>\n",
       "    <tr>\n",
       "      <th>2</th>\n",
       "      <td>20061025X01555</td>\n",
       "      <td>Accident</td>\n",
       "      <td>NYC07LA005</td>\n",
       "      <td>30/08/1974</td>\n",
       "      <td>Saltville, VA</td>\n",
       "      <td>United States</td>\n",
       "      <td>Fatal(3)</td>\n",
       "      <td>N5142R</td>\n",
       "      <td>Cessna</td>\n",
       "      <td>172M</td>\n",
       "      <td>No</td>\n",
       "      <td>1.0</td>\n",
       "      <td>Reciprocating</td>\n",
       "      <td>Personal</td>\n",
       "      <td>3.0</td>\n",
       "      <td>NaN</td>\n",
       "      <td>NaN</td>\n",
       "      <td>NaN</td>\n",
       "      <td>IMC</td>\n",
       "    </tr>\n",
       "    <tr>\n",
       "      <th>3</th>\n",
       "      <td>20001218X45448</td>\n",
       "      <td>Accident</td>\n",
       "      <td>LAX96LA321</td>\n",
       "      <td>19/06/1977</td>\n",
       "      <td>EUREKA, CA</td>\n",
       "      <td>United States</td>\n",
       "      <td>Fatal(2)</td>\n",
       "      <td>N1168J</td>\n",
       "      <td>Rockwell</td>\n",
       "      <td>112</td>\n",
       "      <td>No</td>\n",
       "      <td>1.0</td>\n",
       "      <td>Reciprocating</td>\n",
       "      <td>Personal</td>\n",
       "      <td>2.0</td>\n",
       "      <td>0.0</td>\n",
       "      <td>0.0</td>\n",
       "      <td>0.0</td>\n",
       "      <td>IMC</td>\n",
       "    </tr>\n",
       "    <tr>\n",
       "      <th>4</th>\n",
       "      <td>20041105X01764</td>\n",
       "      <td>Accident</td>\n",
       "      <td>CHI79FA064</td>\n",
       "      <td>02/08/1979</td>\n",
       "      <td>Canton, OH</td>\n",
       "      <td>United States</td>\n",
       "      <td>Fatal(1)</td>\n",
       "      <td>N15NY</td>\n",
       "      <td>Cessna</td>\n",
       "      <td>501</td>\n",
       "      <td>No</td>\n",
       "      <td>NaN</td>\n",
       "      <td>NaN</td>\n",
       "      <td>Personal</td>\n",
       "      <td>1.0</td>\n",
       "      <td>2.0</td>\n",
       "      <td>NaN</td>\n",
       "      <td>0.0</td>\n",
       "      <td>VMC</td>\n",
       "    </tr>\n",
       "    <tr>\n",
       "      <th>...</th>\n",
       "      <td>...</td>\n",
       "      <td>...</td>\n",
       "      <td>...</td>\n",
       "      <td>...</td>\n",
       "      <td>...</td>\n",
       "      <td>...</td>\n",
       "      <td>...</td>\n",
       "      <td>...</td>\n",
       "      <td>...</td>\n",
       "      <td>...</td>\n",
       "      <td>...</td>\n",
       "      <td>...</td>\n",
       "      <td>...</td>\n",
       "      <td>...</td>\n",
       "      <td>...</td>\n",
       "      <td>...</td>\n",
       "      <td>...</td>\n",
       "      <td>...</td>\n",
       "      <td>...</td>\n",
       "    </tr>\n",
       "    <tr>\n",
       "      <th>88884</th>\n",
       "      <td>2.02E+13</td>\n",
       "      <td>Accident</td>\n",
       "      <td>ERA23LA093</td>\n",
       "      <td>26/12/2022</td>\n",
       "      <td>Annapolis, MD</td>\n",
       "      <td>United States</td>\n",
       "      <td>Minor</td>\n",
       "      <td>N1867H</td>\n",
       "      <td>PIPER</td>\n",
       "      <td>PA-28-151</td>\n",
       "      <td>No</td>\n",
       "      <td>NaN</td>\n",
       "      <td>NaN</td>\n",
       "      <td>Personal</td>\n",
       "      <td>0.0</td>\n",
       "      <td>1.0</td>\n",
       "      <td>0.0</td>\n",
       "      <td>0.0</td>\n",
       "      <td>NaN</td>\n",
       "    </tr>\n",
       "    <tr>\n",
       "      <th>88885</th>\n",
       "      <td>2.02E+13</td>\n",
       "      <td>Accident</td>\n",
       "      <td>ERA23LA095</td>\n",
       "      <td>26/12/2022</td>\n",
       "      <td>Hampton, NH</td>\n",
       "      <td>United States</td>\n",
       "      <td>NaN</td>\n",
       "      <td>N2895Z</td>\n",
       "      <td>BELLANCA</td>\n",
       "      <td>7ECA</td>\n",
       "      <td>No</td>\n",
       "      <td>NaN</td>\n",
       "      <td>NaN</td>\n",
       "      <td>NaN</td>\n",
       "      <td>0.0</td>\n",
       "      <td>0.0</td>\n",
       "      <td>0.0</td>\n",
       "      <td>0.0</td>\n",
       "      <td>NaN</td>\n",
       "    </tr>\n",
       "    <tr>\n",
       "      <th>88886</th>\n",
       "      <td>2.02E+13</td>\n",
       "      <td>Accident</td>\n",
       "      <td>WPR23LA075</td>\n",
       "      <td>26/12/2022</td>\n",
       "      <td>Payson, AZ</td>\n",
       "      <td>United States</td>\n",
       "      <td>Non-Fatal</td>\n",
       "      <td>N749PJ</td>\n",
       "      <td>AMERICAN CHAMPION AIRCRAFT</td>\n",
       "      <td>8GCBC</td>\n",
       "      <td>No</td>\n",
       "      <td>1.0</td>\n",
       "      <td>NaN</td>\n",
       "      <td>Personal</td>\n",
       "      <td>0.0</td>\n",
       "      <td>0.0</td>\n",
       "      <td>0.0</td>\n",
       "      <td>1.0</td>\n",
       "      <td>VMC</td>\n",
       "    </tr>\n",
       "    <tr>\n",
       "      <th>88887</th>\n",
       "      <td>2.02E+13</td>\n",
       "      <td>Accident</td>\n",
       "      <td>WPR23LA076</td>\n",
       "      <td>26/12/2022</td>\n",
       "      <td>Morgan, UT</td>\n",
       "      <td>United States</td>\n",
       "      <td>NaN</td>\n",
       "      <td>N210CU</td>\n",
       "      <td>CESSNA</td>\n",
       "      <td>210N</td>\n",
       "      <td>No</td>\n",
       "      <td>NaN</td>\n",
       "      <td>NaN</td>\n",
       "      <td>Personal</td>\n",
       "      <td>0.0</td>\n",
       "      <td>0.0</td>\n",
       "      <td>0.0</td>\n",
       "      <td>0.0</td>\n",
       "      <td>NaN</td>\n",
       "    </tr>\n",
       "    <tr>\n",
       "      <th>88888</th>\n",
       "      <td>2.02E+13</td>\n",
       "      <td>Accident</td>\n",
       "      <td>ERA23LA097</td>\n",
       "      <td>29/12/2022</td>\n",
       "      <td>Athens, GA</td>\n",
       "      <td>United States</td>\n",
       "      <td>Minor</td>\n",
       "      <td>N9026P</td>\n",
       "      <td>PIPER</td>\n",
       "      <td>PA-24-260</td>\n",
       "      <td>No</td>\n",
       "      <td>NaN</td>\n",
       "      <td>NaN</td>\n",
       "      <td>Personal</td>\n",
       "      <td>0.0</td>\n",
       "      <td>1.0</td>\n",
       "      <td>0.0</td>\n",
       "      <td>1.0</td>\n",
       "      <td>NaN</td>\n",
       "    </tr>\n",
       "  </tbody>\n",
       "</table>\n",
       "<p>88889 rows × 19 columns</p>\n",
       "</div>"
      ],
      "text/plain": [
       "             Event.Id Investigation.Type Accident.Number  Event.Date  \\\n",
       "0      20001218X45444           Accident      SEA87LA080  24/10/1948   \n",
       "1      20001218X45447           Accident      LAX94LA336  19/07/1962   \n",
       "2      20061025X01555           Accident      NYC07LA005  30/08/1974   \n",
       "3      20001218X45448           Accident      LAX96LA321  19/06/1977   \n",
       "4      20041105X01764           Accident      CHI79FA064  02/08/1979   \n",
       "...               ...                ...             ...         ...   \n",
       "88884        2.02E+13           Accident      ERA23LA093  26/12/2022   \n",
       "88885        2.02E+13           Accident      ERA23LA095  26/12/2022   \n",
       "88886        2.02E+13           Accident      WPR23LA075  26/12/2022   \n",
       "88887        2.02E+13           Accident      WPR23LA076  26/12/2022   \n",
       "88888        2.02E+13           Accident      ERA23LA097  29/12/2022   \n",
       "\n",
       "              Location        Country Injury.Severity Registration.Number  \\\n",
       "0      MOOSE CREEK, ID  United States        Fatal(2)              NC6404   \n",
       "1       BRIDGEPORT, CA  United States        Fatal(4)              N5069P   \n",
       "2        Saltville, VA  United States        Fatal(3)              N5142R   \n",
       "3           EUREKA, CA  United States        Fatal(2)              N1168J   \n",
       "4           Canton, OH  United States        Fatal(1)               N15NY   \n",
       "...                ...            ...             ...                 ...   \n",
       "88884    Annapolis, MD  United States           Minor              N1867H   \n",
       "88885      Hampton, NH  United States             NaN              N2895Z   \n",
       "88886       Payson, AZ  United States       Non-Fatal              N749PJ   \n",
       "88887       Morgan, UT  United States             NaN              N210CU   \n",
       "88888       Athens, GA  United States           Minor              N9026P   \n",
       "\n",
       "                             Make      Model Amateur.Built  Number.of.Engines  \\\n",
       "0                         Stinson      108-3            No                1.0   \n",
       "1                           Piper   PA24-180            No                1.0   \n",
       "2                          Cessna       172M            No                1.0   \n",
       "3                        Rockwell        112            No                1.0   \n",
       "4                          Cessna        501            No                NaN   \n",
       "...                           ...        ...           ...                ...   \n",
       "88884                       PIPER  PA-28-151            No                NaN   \n",
       "88885                    BELLANCA       7ECA            No                NaN   \n",
       "88886  AMERICAN CHAMPION AIRCRAFT      8GCBC            No                1.0   \n",
       "88887                      CESSNA       210N            No                NaN   \n",
       "88888                       PIPER  PA-24-260            No                NaN   \n",
       "\n",
       "         Engine.Type Purpose.of.flight  Total.Fatal.Injuries  \\\n",
       "0      Reciprocating          Personal                   2.0   \n",
       "1      Reciprocating          Personal                   4.0   \n",
       "2      Reciprocating          Personal                   3.0   \n",
       "3      Reciprocating          Personal                   2.0   \n",
       "4                NaN          Personal                   1.0   \n",
       "...              ...               ...                   ...   \n",
       "88884            NaN          Personal                   0.0   \n",
       "88885            NaN               NaN                   0.0   \n",
       "88886            NaN          Personal                   0.0   \n",
       "88887            NaN          Personal                   0.0   \n",
       "88888            NaN          Personal                   0.0   \n",
       "\n",
       "       Total.Serious.Injuries  Total.Minor.Injuries  Total.Uninjured  \\\n",
       "0                         0.0                   0.0              0.0   \n",
       "1                         0.0                   0.0              0.0   \n",
       "2                         NaN                   NaN              NaN   \n",
       "3                         0.0                   0.0              0.0   \n",
       "4                         2.0                   NaN              0.0   \n",
       "...                       ...                   ...              ...   \n",
       "88884                     1.0                   0.0              0.0   \n",
       "88885                     0.0                   0.0              0.0   \n",
       "88886                     0.0                   0.0              1.0   \n",
       "88887                     0.0                   0.0              0.0   \n",
       "88888                     1.0                   0.0              1.0   \n",
       "\n",
       "      Weather.Condition  \n",
       "0                   UNK  \n",
       "1                   UNK  \n",
       "2                   IMC  \n",
       "3                   IMC  \n",
       "4                   VMC  \n",
       "...                 ...  \n",
       "88884               NaN  \n",
       "88885               NaN  \n",
       "88886               VMC  \n",
       "88887               NaN  \n",
       "88888               NaN  \n",
       "\n",
       "[88889 rows x 19 columns]"
      ]
     },
     "execution_count": 9,
     "metadata": {},
     "output_type": "execute_result"
    }
   ],
   "source": [
    "df"
   ]
  },
  {
   "cell_type": "code",
   "execution_count": 10,
   "metadata": {},
   "outputs": [
    {
     "data": {
      "text/plain": [
       "Event.Id                   0.000000\n",
       "Investigation.Type         0.000000\n",
       "Accident.Number            0.000000\n",
       "Event.Date                 0.000000\n",
       "Location                   0.058500\n",
       "Country                    0.254250\n",
       "Injury.Severity            1.124999\n",
       "Registration.Number        1.481623\n",
       "Make                       0.070875\n",
       "Model                      0.103500\n",
       "Amateur.Built              0.114750\n",
       "Number.of.Engines          6.844491\n",
       "Engine.Type                7.961615\n",
       "Purpose.of.flight          6.965991\n",
       "Total.Fatal.Injuries      12.826109\n",
       "Total.Serious.Injuries    14.073732\n",
       "Total.Minor.Injuries      13.424608\n",
       "Total.Uninjured            6.650992\n",
       "Weather.Condition          5.053494\n",
       "dtype: float64"
      ]
     },
     "execution_count": 10,
     "metadata": {},
     "output_type": "execute_result"
    }
   ],
   "source": [
    "# I confirm the proportion of the missing values for the remaining columns\n",
    "df.isna().mean()*100"
   ]
  },
  {
   "cell_type": "code",
   "execution_count": 19,
   "metadata": {},
   "outputs": [
    {
     "name": "stdout",
     "output_type": "stream",
     "text": [
      "<class 'pandas.core.frame.DataFrame'>\n",
      "RangeIndex: 88889 entries, 0 to 88888\n",
      "Data columns (total 19 columns):\n",
      " #   Column                  Non-Null Count  Dtype  \n",
      "---  ------                  --------------  -----  \n",
      " 0   Event.Id                88889 non-null  object \n",
      " 1   Investigation.Type      88889 non-null  object \n",
      " 2   Accident.Number         88889 non-null  object \n",
      " 3   Event.Date              88889 non-null  object \n",
      " 4   Location                88837 non-null  object \n",
      " 5   Country                 88663 non-null  object \n",
      " 6   Injury.Severity         87889 non-null  object \n",
      " 7   Registration.Number     87572 non-null  object \n",
      " 8   Make                    88826 non-null  object \n",
      " 9   Model                   88797 non-null  object \n",
      " 10  Amateur.Built           88787 non-null  object \n",
      " 11  Number.of.Engines       82805 non-null  float64\n",
      " 12  Engine.Type             81812 non-null  object \n",
      " 13  Purpose.of.flight       82697 non-null  object \n",
      " 14  Total.Fatal.Injuries    77488 non-null  float64\n",
      " 15  Total.Serious.Injuries  76379 non-null  float64\n",
      " 16  Total.Minor.Injuries    76956 non-null  float64\n",
      " 17  Total.Uninjured         82977 non-null  float64\n",
      " 18  Weather.Condition       84397 non-null  object \n",
      "dtypes: float64(5), object(14)\n",
      "memory usage: 12.9+ MB\n"
     ]
    }
   ],
   "source": [
    "df.info()"
   ]
  },
  {
   "cell_type": "code",
   "execution_count": 11,
   "metadata": {},
   "outputs": [
    {
     "data": {
      "text/html": [
       "<div>\n",
       "<style scoped>\n",
       "    .dataframe tbody tr th:only-of-type {\n",
       "        vertical-align: middle;\n",
       "    }\n",
       "\n",
       "    .dataframe tbody tr th {\n",
       "        vertical-align: top;\n",
       "    }\n",
       "\n",
       "    .dataframe thead th {\n",
       "        text-align: right;\n",
       "    }\n",
       "</style>\n",
       "<table border=\"1\" class=\"dataframe\">\n",
       "  <thead>\n",
       "    <tr style=\"text-align: right;\">\n",
       "      <th></th>\n",
       "      <th>Number.of.Engines</th>\n",
       "      <th>Total.Fatal.Injuries</th>\n",
       "      <th>Total.Serious.Injuries</th>\n",
       "      <th>Total.Minor.Injuries</th>\n",
       "      <th>Total.Uninjured</th>\n",
       "    </tr>\n",
       "  </thead>\n",
       "  <tbody>\n",
       "    <tr>\n",
       "      <th>count</th>\n",
       "      <td>82805.000000</td>\n",
       "      <td>77488.000000</td>\n",
       "      <td>76379.000000</td>\n",
       "      <td>76956.000000</td>\n",
       "      <td>82977.000000</td>\n",
       "    </tr>\n",
       "    <tr>\n",
       "      <th>mean</th>\n",
       "      <td>1.146585</td>\n",
       "      <td>0.647855</td>\n",
       "      <td>0.279881</td>\n",
       "      <td>0.357061</td>\n",
       "      <td>5.325440</td>\n",
       "    </tr>\n",
       "    <tr>\n",
       "      <th>std</th>\n",
       "      <td>0.446510</td>\n",
       "      <td>5.485960</td>\n",
       "      <td>1.544084</td>\n",
       "      <td>2.235625</td>\n",
       "      <td>27.913634</td>\n",
       "    </tr>\n",
       "    <tr>\n",
       "      <th>min</th>\n",
       "      <td>0.000000</td>\n",
       "      <td>0.000000</td>\n",
       "      <td>0.000000</td>\n",
       "      <td>0.000000</td>\n",
       "      <td>0.000000</td>\n",
       "    </tr>\n",
       "    <tr>\n",
       "      <th>25%</th>\n",
       "      <td>1.000000</td>\n",
       "      <td>0.000000</td>\n",
       "      <td>0.000000</td>\n",
       "      <td>0.000000</td>\n",
       "      <td>0.000000</td>\n",
       "    </tr>\n",
       "    <tr>\n",
       "      <th>50%</th>\n",
       "      <td>1.000000</td>\n",
       "      <td>0.000000</td>\n",
       "      <td>0.000000</td>\n",
       "      <td>0.000000</td>\n",
       "      <td>1.000000</td>\n",
       "    </tr>\n",
       "    <tr>\n",
       "      <th>75%</th>\n",
       "      <td>1.000000</td>\n",
       "      <td>0.000000</td>\n",
       "      <td>0.000000</td>\n",
       "      <td>0.000000</td>\n",
       "      <td>2.000000</td>\n",
       "    </tr>\n",
       "    <tr>\n",
       "      <th>max</th>\n",
       "      <td>8.000000</td>\n",
       "      <td>349.000000</td>\n",
       "      <td>161.000000</td>\n",
       "      <td>380.000000</td>\n",
       "      <td>699.000000</td>\n",
       "    </tr>\n",
       "  </tbody>\n",
       "</table>\n",
       "</div>"
      ],
      "text/plain": [
       "       Number.of.Engines  Total.Fatal.Injuries  Total.Serious.Injuries  \\\n",
       "count       82805.000000          77488.000000            76379.000000   \n",
       "mean            1.146585              0.647855                0.279881   \n",
       "std             0.446510              5.485960                1.544084   \n",
       "min             0.000000              0.000000                0.000000   \n",
       "25%             1.000000              0.000000                0.000000   \n",
       "50%             1.000000              0.000000                0.000000   \n",
       "75%             1.000000              0.000000                0.000000   \n",
       "max             8.000000            349.000000              161.000000   \n",
       "\n",
       "       Total.Minor.Injuries  Total.Uninjured  \n",
       "count          76956.000000     82977.000000  \n",
       "mean               0.357061         5.325440  \n",
       "std                2.235625        27.913634  \n",
       "min                0.000000         0.000000  \n",
       "25%                0.000000         0.000000  \n",
       "50%                0.000000         1.000000  \n",
       "75%                0.000000         2.000000  \n",
       "max              380.000000       699.000000  "
      ]
     },
     "execution_count": 11,
     "metadata": {},
     "output_type": "execute_result"
    }
   ],
   "source": [
    "#I use .describe() to understand the overall distribution of my data for the remaining columns\n",
    "df.describe()"
   ]
  },
  {
   "cell_type": "markdown",
   "metadata": {},
   "source": [
    "**a. The interpretation of the above .describe(), implies that for most aircrafts the number of engine per aircraft is 1.**\n",
    "\n",
    "**b. The Average number of fatal,serious and minor injuries is low,less than 1. But 50% of all records imply that many accidents resulted in no injuries.**\n",
    "\n",
    "**c. Checking the total uninjured column, on average, it implies that about 5 people are uninjured in each accident, with 50% of the events having 1 uninjured person. This translates that half of the accidents have very few survivors.**"
   ]
  },
  {
   "cell_type": "code",
   "execution_count": 12,
   "metadata": {},
   "outputs": [
    {
     "data": {
      "text/plain": [
       "array([[<AxesSubplot:title={'center':'Number.of.Engines'}>,\n",
       "        <AxesSubplot:title={'center':'Total.Fatal.Injuries'}>],\n",
       "       [<AxesSubplot:title={'center':'Total.Serious.Injuries'}>,\n",
       "        <AxesSubplot:title={'center':'Total.Minor.Injuries'}>],\n",
       "       [<AxesSubplot:title={'center':'Total.Uninjured'}>, <AxesSubplot:>]],\n",
       "      dtype=object)"
      ]
     },
     "execution_count": 12,
     "metadata": {},
     "output_type": "execute_result"
    },
    {
     "data": {
      "image/png": "[encoded data removed]",
      "text/plain": [
       "<Figure size 720x576 with 6 Axes>"
      ]
     },
     "metadata": {
      "needs_background": "light"
     },
     "output_type": "display_data"
    }
   ],
   "source": [
    "#The same concept is further visualized in an histogram\n",
    "df.hist(bins=20, figsize=(10, 8))\n"
   ]
  },
  {
   "cell_type": "markdown",
   "metadata": {},
   "source": [
    "**The histogram further visualizes how my data is distributed. Most of the values are clustured at 0-1. Which is similar to the mean and median of the numerical columns in picture.This will guide on how i'll impute the missing values in the data.Based on this, it implies that my data is non-symmetrical, therefore, i'll impute the missing values with median for the numerical data and the mode for the categorical data.**"
   ]
  },
  {
   "cell_type": "code",
   "execution_count": 13,
   "metadata": {},
   "outputs": [],
   "source": [
    "# imputing the missing values with median for the numerical data and mode for the categorical data.\n",
    "columns_mode=['Location','Country','Injury.Severity','Registration.Number','Make','Model','Amateur.Built','Purpose.of.flight',\n",
    "              'Weather.Condition','Engine.Type']\n",
    "columns_median=['Number.of.Engines','Total.Fatal.Injuries','Total.Serious.Injuries','Total.Minor.Injuries','Total.Uninjured']\n",
    "\n",
    "#Imputing with mode\n",
    "for column in columns_mode:\n",
    "    df[column].fillna(df[column].mode()[0],inplace=True)\n",
    "#Imputing with median\n",
    "for column in columns_median:\n",
    "    df[column].fillna(df[column].median(),inplace=True)\n"
   ]
  },
  {
   "cell_type": "code",
   "execution_count": 14,
   "metadata": {},
   "outputs": [
    {
     "data": {
      "text/plain": [
       "Event.Id                  0\n",
       "Investigation.Type        0\n",
       "Accident.Number           0\n",
       "Event.Date                0\n",
       "Location                  0\n",
       "Country                   0\n",
       "Injury.Severity           0\n",
       "Registration.Number       0\n",
       "Make                      0\n",
       "Model                     0\n",
       "Amateur.Built             0\n",
       "Number.of.Engines         0\n",
       "Engine.Type               0\n",
       "Purpose.of.flight         0\n",
       "Total.Fatal.Injuries      0\n",
       "Total.Serious.Injuries    0\n",
       "Total.Minor.Injuries      0\n",
       "Total.Uninjured           0\n",
       "Weather.Condition         0\n",
       "dtype: int64"
      ]
     },
     "execution_count": 14,
     "metadata": {},
     "output_type": "execute_result"
    }
   ],
   "source": [
    "#Confirming if there are any remaining null values\n",
    "df.isna().sum()"
   ]
  },
  {
   "cell_type": "code",
   "execution_count": 15,
   "metadata": {},
   "outputs": [],
   "source": [
    "# Extracting the year, month and date from the event date column\n",
    "# First convert the date column into a date datatype\n",
    "df['Event.Date']=pd.to_datetime(df['Event.Date'])\n",
    "#Then extract year, month and date\n",
    "df['year']=df['Event.Date'].dt.year\n",
    "df['month']=df['Event.Date'].dt.month\n",
    "df['day']=df['Event.Date'].dt.day"
   ]
  },
  {
   "cell_type": "code",
   "execution_count": 16,
   "metadata": {},
   "outputs": [
    {
     "data": {
      "text/plain": [
       "Index(['Event.Id', 'Investigation.Type', 'Accident.Number', 'Event.Date',\n",
       "       'Location', 'Country', 'Injury.Severity', 'Registration.Number', 'Make',\n",
       "       'Model', 'Amateur.Built', 'Number.of.Engines', 'Engine.Type',\n",
       "       'Purpose.of.flight', 'Total.Fatal.Injuries', 'Total.Serious.Injuries',\n",
       "       'Total.Minor.Injuries', 'Total.Uninjured', 'Weather.Condition', 'year',\n",
       "       'month', 'day'],\n",
       "      dtype='object')"
      ]
     },
     "execution_count": 16,
     "metadata": {},
     "output_type": "execute_result"
    }
   ],
   "source": [
    "#Confirming if the year,month and day columns have been added in the dataframe\n",
    "df.columns"
   ]
  },
  {
   "cell_type": "code",
   "execution_count": 17,
   "metadata": {},
   "outputs": [],
   "source": [
    "# Spliting location into City and State\n",
    "location_split=df['Location'].str.split(',',expand=True)\n",
    "\n",
    "# Check if the split produced two columns and fill with NaN if not\n",
    "if location_split.shape[1] == 2:\n",
    "    df[['city', 'state']] = location_split\n",
    "else:\n",
    "# Handle cases where there aren't exactly two splits\n",
    "    df[['city', 'state']] = location_split.reindex(columns=[0, 1])\n",
    "\n",
    "# Remove any leading/trailing spaces in the new columns\n",
    "df['city'] = df['city'].str.strip()\n",
    "df['state'] = df['state'].str.strip()\n"
   ]
  },
  {
   "cell_type": "code",
   "execution_count": 18,
   "metadata": {},
   "outputs": [
    {
     "data": {
      "text/plain": [
       "0        ID\n",
       "1        CA\n",
       "2        VA\n",
       "3        CA\n",
       "4        OH\n",
       "         ..\n",
       "88884    MD\n",
       "88885    NH\n",
       "88886    AZ\n",
       "88887    UT\n",
       "88888    GA\n",
       "Name: state, Length: 88889, dtype: object"
      ]
     },
     "execution_count": 18,
     "metadata": {},
     "output_type": "execute_result"
    }
   ],
   "source": [
    "df['state']"
   ]
  },
  {
   "cell_type": "code",
   "execution_count": 19,
   "metadata": {},
   "outputs": [
    {
     "data": {
      "text/plain": [
       "0         Fatal(2)\n",
       "1         Fatal(4)\n",
       "2         Fatal(3)\n",
       "3         Fatal(2)\n",
       "4         Fatal(1)\n",
       "           ...    \n",
       "88884        Minor\n",
       "88885    Non-Fatal\n",
       "88886    Non-Fatal\n",
       "88887    Non-Fatal\n",
       "88888        Minor\n",
       "Name: Injury.Severity, Length: 88889, dtype: object"
      ]
     },
     "execution_count": 19,
     "metadata": {},
     "output_type": "execute_result"
    }
   ],
   "source": [
    "# Remove the numericals in the 'Injury.Severity' column because that is taken care of by the 'Total.Fatal.Injuries' column.\n",
    "df['Injury.Severity']"
   ]
  },
  {
   "cell_type": "code",
   "execution_count": 20,
   "metadata": {},
   "outputs": [
    {
     "data": {
      "text/plain": [
       "Non-Fatal      68357\n",
       "Fatal          17826\n",
       "Incident        2219\n",
       "Minor            218\n",
       "Serious          173\n",
       "Unavailable       96\n",
       "Name: Injury.Severity, dtype: int64"
      ]
     },
     "execution_count": 20,
     "metadata": {},
     "output_type": "execute_result"
    }
   ],
   "source": [
    "df['Injury.Severity'] = df['Injury.Severity'].str.split('(').str[0]\n",
    "df['Injury.Severity'].value_counts()"
   ]
  },
  {
   "cell_type": "code",
   "execution_count": 21,
   "metadata": {},
   "outputs": [
    {
     "data": {
      "text/plain": [
       "array(['UNK', 'IMC', 'VMC', 'Unk'], dtype=object)"
      ]
     },
     "execution_count": 21,
     "metadata": {},
     "output_type": "execute_result"
    }
   ],
   "source": [
    "# let's inspect the weather condition column\n",
    "df['Weather.Condition'].unique()"
   ]
  },
  {
   "cell_type": "code",
   "execution_count": 22,
   "metadata": {},
   "outputs": [],
   "source": [
    "#You notice that it has two unknowns, one in uppercase and another one in lowercase. So i'll need to harmonize this.\n",
    "df['Weather.Condition']=df['Weather.Condition'].replace({'Unk':'UNK'})"
   ]
  },
  {
   "cell_type": "code",
   "execution_count": 23,
   "metadata": {},
   "outputs": [
    {
     "data": {
      "text/plain": [
       "array(['UNK', 'IMC', 'VMC'], dtype=object)"
      ]
     },
     "execution_count": 23,
     "metadata": {},
     "output_type": "execute_result"
    }
   ],
   "source": [
    "df['Weather.Condition'].unique()"
   ]
  },
  {
   "cell_type": "code",
   "execution_count": 24,
   "metadata": {},
   "outputs": [
    {
     "data": {
      "text/plain": [
       "Event.Id                    0\n",
       "Investigation.Type          0\n",
       "Accident.Number             0\n",
       "Event.Date                  0\n",
       "Location                    0\n",
       "Country                     0\n",
       "Injury.Severity             0\n",
       "Registration.Number         0\n",
       "Make                        0\n",
       "Model                       0\n",
       "Amateur.Built               0\n",
       "Number.of.Engines           0\n",
       "Engine.Type                 0\n",
       "Purpose.of.flight           0\n",
       "Total.Fatal.Injuries        0\n",
       "Total.Serious.Injuries      0\n",
       "Total.Minor.Injuries        0\n",
       "Total.Uninjured             0\n",
       "Weather.Condition           0\n",
       "year                        0\n",
       "month                       0\n",
       "day                         0\n",
       "city                        0\n",
       "state                     507\n",
       "dtype: int64"
      ]
     },
     "execution_count": 24,
     "metadata": {},
     "output_type": "execute_result"
    }
   ],
   "source": [
    "df.isna().sum()"
   ]
  },
  {
   "cell_type": "code",
   "execution_count": 25,
   "metadata": {},
   "outputs": [],
   "source": [
    "# The state column needs to be sorted since it portrays to have null values\n",
    "# I replaced the nulls with mode\n",
    "df['state'].fillna(df['state'].mode()[0],inplace=True)"
   ]
  },
  {
   "cell_type": "code",
   "execution_count": 26,
   "metadata": {},
   "outputs": [
    {
     "data": {
      "text/plain": [
       "Event.Id                  0\n",
       "Investigation.Type        0\n",
       "Accident.Number           0\n",
       "Event.Date                0\n",
       "Location                  0\n",
       "Country                   0\n",
       "Injury.Severity           0\n",
       "Registration.Number       0\n",
       "Make                      0\n",
       "Model                     0\n",
       "Amateur.Built             0\n",
       "Number.of.Engines         0\n",
       "Engine.Type               0\n",
       "Purpose.of.flight         0\n",
       "Total.Fatal.Injuries      0\n",
       "Total.Serious.Injuries    0\n",
       "Total.Minor.Injuries      0\n",
       "Total.Uninjured           0\n",
       "Weather.Condition         0\n",
       "year                      0\n",
       "month                     0\n",
       "day                       0\n",
       "city                      0\n",
       "state                     0\n",
       "dtype: int64"
      ]
     },
     "execution_count": 26,
     "metadata": {},
     "output_type": "execute_result"
    }
   ],
   "source": [
    "df.isna().sum()"
   ]
  },
  {
   "cell_type": "code",
   "execution_count": 27,
   "metadata": {},
   "outputs": [
    {
     "data": {
      "text/plain": [
       "False    88889\n",
       "dtype: int64"
      ]
     },
     "execution_count": 27,
     "metadata": {},
     "output_type": "execute_result"
    }
   ],
   "source": [
    "# Checking for duplicates\n",
    "df.duplicated().value_counts()  # The dataset has no duplicates as displayed."
   ]
  },
  {
   "cell_type": "code",
   "execution_count": 28,
   "metadata": {
    "scrolled": true
   },
   "outputs": [
    {
     "data": {
      "text/html": [
       "<div>\n",
       "<style scoped>\n",
       "    .dataframe tbody tr th:only-of-type {\n",
       "        vertical-align: middle;\n",
       "    }\n",
       "\n",
       "    .dataframe tbody tr th {\n",
       "        vertical-align: top;\n",
       "    }\n",
       "\n",
       "    .dataframe thead th {\n",
       "        text-align: right;\n",
       "    }\n",
       "</style>\n",
       "<table border=\"1\" class=\"dataframe\">\n",
       "  <thead>\n",
       "    <tr style=\"text-align: right;\">\n",
       "      <th></th>\n",
       "      <th>Number.of.Engines</th>\n",
       "      <th>Total.Fatal.Injuries</th>\n",
       "      <th>Total.Serious.Injuries</th>\n",
       "      <th>Total.Minor.Injuries</th>\n",
       "      <th>Total.Uninjured</th>\n",
       "      <th>year</th>\n",
       "      <th>month</th>\n",
       "      <th>day</th>\n",
       "    </tr>\n",
       "  </thead>\n",
       "  <tbody>\n",
       "    <tr>\n",
       "      <th>count</th>\n",
       "      <td>88889.000000</td>\n",
       "      <td>88889.000000</td>\n",
       "      <td>88889.000000</td>\n",
       "      <td>88889.000000</td>\n",
       "      <td>88889.000000</td>\n",
       "      <td>88889.000000</td>\n",
       "      <td>88889.000000</td>\n",
       "      <td>88889.000000</td>\n",
       "    </tr>\n",
       "    <tr>\n",
       "      <th>mean</th>\n",
       "      <td>1.136552</td>\n",
       "      <td>0.564761</td>\n",
       "      <td>0.240491</td>\n",
       "      <td>0.309127</td>\n",
       "      <td>5.037755</td>\n",
       "      <td>1999.206662</td>\n",
       "      <td>6.497666</td>\n",
       "      <td>15.822644</td>\n",
       "    </tr>\n",
       "    <tr>\n",
       "      <th>std</th>\n",
       "      <td>0.432545</td>\n",
       "      <td>5.126649</td>\n",
       "      <td>1.434614</td>\n",
       "      <td>2.083715</td>\n",
       "      <td>26.990914</td>\n",
       "      <td>11.888226</td>\n",
       "      <td>3.219650</td>\n",
       "      <td>8.682349</td>\n",
       "    </tr>\n",
       "    <tr>\n",
       "      <th>min</th>\n",
       "      <td>0.000000</td>\n",
       "      <td>0.000000</td>\n",
       "      <td>0.000000</td>\n",
       "      <td>0.000000</td>\n",
       "      <td>0.000000</td>\n",
       "      <td>1948.000000</td>\n",
       "      <td>1.000000</td>\n",
       "      <td>1.000000</td>\n",
       "    </tr>\n",
       "    <tr>\n",
       "      <th>25%</th>\n",
       "      <td>1.000000</td>\n",
       "      <td>0.000000</td>\n",
       "      <td>0.000000</td>\n",
       "      <td>0.000000</td>\n",
       "      <td>0.000000</td>\n",
       "      <td>1989.000000</td>\n",
       "      <td>4.000000</td>\n",
       "      <td>8.000000</td>\n",
       "    </tr>\n",
       "    <tr>\n",
       "      <th>50%</th>\n",
       "      <td>1.000000</td>\n",
       "      <td>0.000000</td>\n",
       "      <td>0.000000</td>\n",
       "      <td>0.000000</td>\n",
       "      <td>1.000000</td>\n",
       "      <td>1998.000000</td>\n",
       "      <td>7.000000</td>\n",
       "      <td>16.000000</td>\n",
       "    </tr>\n",
       "    <tr>\n",
       "      <th>75%</th>\n",
       "      <td>1.000000</td>\n",
       "      <td>0.000000</td>\n",
       "      <td>0.000000</td>\n",
       "      <td>0.000000</td>\n",
       "      <td>2.000000</td>\n",
       "      <td>2009.000000</td>\n",
       "      <td>9.000000</td>\n",
       "      <td>23.000000</td>\n",
       "    </tr>\n",
       "    <tr>\n",
       "      <th>max</th>\n",
       "      <td>8.000000</td>\n",
       "      <td>349.000000</td>\n",
       "      <td>161.000000</td>\n",
       "      <td>380.000000</td>\n",
       "      <td>699.000000</td>\n",
       "      <td>2022.000000</td>\n",
       "      <td>12.000000</td>\n",
       "      <td>31.000000</td>\n",
       "    </tr>\n",
       "  </tbody>\n",
       "</table>\n",
       "</div>"
      ],
      "text/plain": [
       "       Number.of.Engines  Total.Fatal.Injuries  Total.Serious.Injuries  \\\n",
       "count       88889.000000          88889.000000            88889.000000   \n",
       "mean            1.136552              0.564761                0.240491   \n",
       "std             0.432545              5.126649                1.434614   \n",
       "min             0.000000              0.000000                0.000000   \n",
       "25%             1.000000              0.000000                0.000000   \n",
       "50%             1.000000              0.000000                0.000000   \n",
       "75%             1.000000              0.000000                0.000000   \n",
       "max             8.000000            349.000000              161.000000   \n",
       "\n",
       "       Total.Minor.Injuries  Total.Uninjured          year         month  \\\n",
       "count          88889.000000     88889.000000  88889.000000  88889.000000   \n",
       "mean               0.309127         5.037755   1999.206662      6.497666   \n",
       "std                2.083715        26.990914     11.888226      3.219650   \n",
       "min                0.000000         0.000000   1948.000000      1.000000   \n",
       "25%                0.000000         0.000000   1989.000000      4.000000   \n",
       "50%                0.000000         1.000000   1998.000000      7.000000   \n",
       "75%                0.000000         2.000000   2009.000000      9.000000   \n",
       "max              380.000000       699.000000   2022.000000     12.000000   \n",
       "\n",
       "                day  \n",
       "count  88889.000000  \n",
       "mean      15.822644  \n",
       "std        8.682349  \n",
       "min        1.000000  \n",
       "25%        8.000000  \n",
       "50%       16.000000  \n",
       "75%       23.000000  \n",
       "max       31.000000  "
      ]
     },
     "execution_count": 28,
     "metadata": {},
     "output_type": "execute_result"
    }
   ],
   "source": [
    "df.describe()"
   ]
  },
  {
   "cell_type": "markdown",
   "metadata": {},
   "source": [
    "**Exploratory Data Analysis (EDA)**\n"
   ]
  },
  {
   "cell_type": "markdown",
   "metadata": {},
   "source": [
    "**1.Number of accidents by manufacturer Make**"
   ]
  },
  {
   "cell_type": "code",
   "execution_count": 29,
   "metadata": {},
   "outputs": [],
   "source": [
    "#More data cleaning for the Make column, most of the names are repetition and others have case difference\n",
    "name_update={'MOONEY':'Mooney','Mooney':'MOONEY AIRCRAFT CORP.','CESSNA':'Cessna','PIPER':'Piper','BEECH':'Beech',\n",
    "            'BELL':'Bell Helicopter','Bell Helicopter':'Bell/textron','Bell/textron':'Bell',\n",
    "             'BELL TEXTRON CANADA LTD':'TEXTRON AVIATION INC','Grumman Schweizer':'Grumman American Avn. Corp.',\n",
    "             'Gordorn Price':'Gordon R Smith','Gordon R Smith':'Gordon Price','Gordon Price':'Gordon E. Brown',\n",
    "             'Gordon E. Brown':'Gordon','Griffin,Thomas':'Griffin','Griffin Trane Inc.':'Griffin','Grooms':'Groom'}\n",
    "df['Make'].replace(name_update,inplace=True)"
   ]
  },
  {
   "cell_type": "code",
   "execution_count": 30,
   "metadata": {},
   "outputs": [],
   "source": [
    "df['Make'].replace({'BOEING':'Boeing'}, inplace=True)"
   ]
  },
  {
   "cell_type": "code",
   "execution_count": 31,
   "metadata": {},
   "outputs": [
    {
     "data": {
      "text/plain": [
       "array(['ARADO-FLUGZEUGWERKE GMBH', 'Cessna', 'ROBINSON HELICOPTER',\n",
       "       'ROBINSON HELICOPTER COMPANY', 'EUROCOPTER',\n",
       "       'MOONEY AIRCRAFT CORP.', 'AIRBUS HELICOPTERS', 'Mooney', 'Piper',\n",
       "       'CIRRUS DESIGN CORP', 'Bell Helicopter', 'Beech', 'SWEARINGEN',\n",
       "       'ROYSE RALPH L', 'AIRBUS', 'GRUMMAN AMERICAN AVN. CORP.',\n",
       "       'AIR TRACTOR', 'BELLANCA', 'AMERICAN CHAMPION AIRCRAFT'],\n",
       "      dtype=object)"
      ]
     },
     "execution_count": 31,
     "metadata": {},
     "output_type": "execute_result"
    }
   ],
   "source": [
    "df['Make'].tail(30).unique() # Confirming if the changes above reflects in the column"
   ]
  },
  {
   "cell_type": "code",
   "execution_count": 32,
   "metadata": {},
   "outputs": [
    {
     "data": {
      "text/html": [
       "<div>\n",
       "<style scoped>\n",
       "    .dataframe tbody tr th:only-of-type {\n",
       "        vertical-align: middle;\n",
       "    }\n",
       "\n",
       "    .dataframe tbody tr th {\n",
       "        vertical-align: top;\n",
       "    }\n",
       "\n",
       "    .dataframe thead th {\n",
       "        text-align: right;\n",
       "    }\n",
       "</style>\n",
       "<table border=\"1\" class=\"dataframe\">\n",
       "  <thead>\n",
       "    <tr style=\"text-align: right;\">\n",
       "      <th></th>\n",
       "      <th>Make</th>\n",
       "      <th>Accident.Number</th>\n",
       "    </tr>\n",
       "  </thead>\n",
       "  <tbody>\n",
       "    <tr>\n",
       "      <th>3145</th>\n",
       "      <td>Grigg/bowers</td>\n",
       "      <td>1</td>\n",
       "    </tr>\n",
       "    <tr>\n",
       "      <th>3144</th>\n",
       "      <td>Griffith-boyd</td>\n",
       "      <td>1</td>\n",
       "    </tr>\n",
       "    <tr>\n",
       "      <th>3143</th>\n",
       "      <td>Griffin, Thomas</td>\n",
       "      <td>1</td>\n",
       "    </tr>\n",
       "    <tr>\n",
       "      <th>3141</th>\n",
       "      <td>Grieme</td>\n",
       "      <td>1</td>\n",
       "    </tr>\n",
       "    <tr>\n",
       "      <th>3140</th>\n",
       "      <td>Grice</td>\n",
       "      <td>1</td>\n",
       "    </tr>\n",
       "    <tr>\n",
       "      <th>3139</th>\n",
       "      <td>Gribosh</td>\n",
       "      <td>1</td>\n",
       "    </tr>\n",
       "    <tr>\n",
       "      <th>3138</th>\n",
       "      <td>Greth</td>\n",
       "      <td>1</td>\n",
       "    </tr>\n",
       "    <tr>\n",
       "      <th>3135</th>\n",
       "      <td>Gregg</td>\n",
       "      <td>1</td>\n",
       "    </tr>\n",
       "    <tr>\n",
       "      <th>3134</th>\n",
       "      <td>Greg Smith</td>\n",
       "      <td>1</td>\n",
       "    </tr>\n",
       "    <tr>\n",
       "      <th>8225</th>\n",
       "      <td>unknown</td>\n",
       "      <td>1</td>\n",
       "    </tr>\n",
       "  </tbody>\n",
       "</table>\n",
       "</div>"
      ],
      "text/plain": [
       "                 Make  Accident.Number\n",
       "3145     Grigg/bowers                1\n",
       "3144    Griffith-boyd                1\n",
       "3143  Griffin, Thomas                1\n",
       "3141           Grieme                1\n",
       "3140            Grice                1\n",
       "3139          Gribosh                1\n",
       "3138            Greth                1\n",
       "3135            Gregg                1\n",
       "3134       Greg Smith                1\n",
       "8225          unknown                1"
      ]
     },
     "execution_count": 32,
     "metadata": {},
     "output_type": "execute_result"
    }
   ],
   "source": [
    "#I first group the make column by the count of accident number to represesent the occurence of each accident\n",
    "# Confirming Makes with least number of accidents\n",
    "accidents_by_make_least = df.groupby('Make')['Accident.Number'].count().reset_index()\n",
    "accidents_by_make_least = accidents_by_make_least.sort_values(by='Accident.Number', ascending=False)\n",
    "accidents_by_make_least.tail(10)"
   ]
  },
  {
   "cell_type": "code",
   "execution_count": 33,
   "metadata": {},
   "outputs": [
    {
     "data": {
      "text/html": [
       "<div>\n",
       "<style scoped>\n",
       "    .dataframe tbody tr th:only-of-type {\n",
       "        vertical-align: middle;\n",
       "    }\n",
       "\n",
       "    .dataframe tbody tr th {\n",
       "        vertical-align: top;\n",
       "    }\n",
       "\n",
       "    .dataframe thead th {\n",
       "        text-align: right;\n",
       "    }\n",
       "</style>\n",
       "<table border=\"1\" class=\"dataframe\">\n",
       "  <thead>\n",
       "    <tr style=\"text-align: right;\">\n",
       "      <th></th>\n",
       "      <th>Make</th>\n",
       "      <th>Accident.Number</th>\n",
       "    </tr>\n",
       "  </thead>\n",
       "  <tbody>\n",
       "    <tr>\n",
       "      <th>1562</th>\n",
       "      <td>Cessna</td>\n",
       "      <td>27212</td>\n",
       "    </tr>\n",
       "    <tr>\n",
       "      <th>5784</th>\n",
       "      <td>Piper</td>\n",
       "      <td>14870</td>\n",
       "    </tr>\n",
       "    <tr>\n",
       "      <th>932</th>\n",
       "      <td>Beech</td>\n",
       "      <td>5372</td>\n",
       "    </tr>\n",
       "    <tr>\n",
       "      <th>1062</th>\n",
       "      <td>Boeing</td>\n",
       "      <td>2745</td>\n",
       "    </tr>\n",
       "    <tr>\n",
       "      <th>944</th>\n",
       "      <td>Bell</td>\n",
       "      <td>2135</td>\n",
       "    </tr>\n",
       "    <tr>\n",
       "      <th>4840</th>\n",
       "      <td>MOONEY AIRCRAFT CORP.</td>\n",
       "      <td>1126</td>\n",
       "    </tr>\n",
       "    <tr>\n",
       "      <th>3161</th>\n",
       "      <td>Grumman</td>\n",
       "      <td>1094</td>\n",
       "    </tr>\n",
       "    <tr>\n",
       "      <th>6310</th>\n",
       "      <td>Robinson</td>\n",
       "      <td>946</td>\n",
       "    </tr>\n",
       "    <tr>\n",
       "      <th>965</th>\n",
       "      <td>Bellanca</td>\n",
       "      <td>886</td>\n",
       "    </tr>\n",
       "    <tr>\n",
       "      <th>3690</th>\n",
       "      <td>Hughes</td>\n",
       "      <td>795</td>\n",
       "    </tr>\n",
       "  </tbody>\n",
       "</table>\n",
       "</div>"
      ],
      "text/plain": [
       "                       Make  Accident.Number\n",
       "1562                 Cessna            27212\n",
       "5784                  Piper            14870\n",
       "932                   Beech             5372\n",
       "1062                 Boeing             2745\n",
       "944                    Bell             2135\n",
       "4840  MOONEY AIRCRAFT CORP.             1126\n",
       "3161                Grumman             1094\n",
       "6310               Robinson              946\n",
       "965                Bellanca              886\n",
       "3690                 Hughes              795"
      ]
     },
     "execution_count": 33,
     "metadata": {},
     "output_type": "execute_result"
    }
   ],
   "source": [
    "# Confirming Makes with highest number of accidents\n",
    "accidents_by_make_top = df.groupby('Make')['Accident.Number'].count().reset_index()\n",
    "accidents_by_make_top = accidents_by_make_top.sort_values(by='Accident.Number', ascending=False)\n",
    "accidents_by_make_top.head(10)"
   ]
  },
  {
   "cell_type": "code",
   "execution_count": 34,
   "metadata": {},
   "outputs": [
    {
     "data": {
      "image/png": "[encoded data removed]",
      "text/plain": [
       "<Figure size 864x432 with 1 Axes>"
      ]
     },
     "metadata": {
      "needs_background": "light"
     },
     "output_type": "display_data"
    },
    {
     "data": {
      "image/png": "[encoded data removed]",
      "text/plain": [
       "<Figure size 864x432 with 1 Axes>"
      ]
     },
     "metadata": {
      "needs_background": "light"
     },
     "output_type": "display_data"
    }
   ],
   "source": [
    "#plotting in a bargraph\n",
    "# Graph with the highest accident cases\n",
    "plt.figure(figsize=(12,6))\n",
    "sns.barplot(data=accidents_by_make_top.head(10), x='Make', y='Accident.Number')\n",
    "plt.title('Manufacturers with the highest Number of Accidents')\n",
    "plt.xlabel('Manufacturer Make')\n",
    "plt.ylabel('Number of Accidents')\n",
    "plt.xticks(rotation=80)\n",
    "plt.tight_layout()\n",
    "plt.show();\n",
    "\n",
    "#Graph with the least accident cases\n",
    "plt.figure(figsize=(12,6))\n",
    "sns.barplot(data=accidents_by_make_least.tail(10), x='Make', y='Accident.Number')\n",
    "plt.title('Manufacturers with the least Number of Accidents')\n",
    "plt.xlabel('Manufacturer Make')\n",
    "plt.ylabel('Number of Accidents')\n",
    "plt.xticks(rotation=80)\n",
    "plt.tight_layout()\n",
    "plt.show();"
   ]
  },
  {
   "cell_type": "markdown",
   "metadata": {},
   "source": [
    "**The second plot portrays the 10 airplane make which have recorded the least number of accidents. In this case each of this Make manufacturers have recorded only 1 accident each in their entire period of operation**"
   ]
  },
  {
   "cell_type": "markdown",
   "metadata": {},
   "source": [
    "**2. Survival rate across the manufacturer make with least incidents**\n",
    "\n",
    "This is an extension of the above analysis, it will analyze the survival rate among each make with least accident records in terms of serious injuries,fatal injuries,minor injuries and non-injuries."
   ]
  },
  {
   "cell_type": "code",
   "execution_count": 35,
   "metadata": {},
   "outputs": [
    {
     "data": {
      "image/png": "[encoded data removed]",
      "text/plain": [
       "<Figure size 864x576 with 1 Axes>"
      ]
     },
     "metadata": {
      "needs_background": "light"
     },
     "output_type": "display_data"
    }
   ],
   "source": [
    "# Group by 'Make' and count the number of accidents\n",
    "accidents_by_make = df.groupby('Make')['Accident.Number'].count().reset_index(name='Total_Accidents')\n",
    "\n",
    "# Sort and get the 10 Make manufacturers with the least accidents\n",
    "accidents_by_make_least = accidents_by_make.sort_values(by='Total_Accidents', ascending=False)\n",
    "least_10_makes = accidents_by_make_least.tail(10)['Make']\n",
    "\n",
    "# Filter the dataset for those least accident-prone manufacturers\n",
    "df_filtered_least = df[df['Make'].isin(least_10_makes)]\n",
    "\n",
    "# Combine the injury columns\n",
    "injuries = ['Total.Fatal.Injuries', 'Total.Serious.Injuries', 'Total.Minor.Injuries', 'Total.Uninjured']\n",
    "\n",
    "# Group by 'Make' and sum up the injuries for each make\n",
    "injuries_by_make_least = df_filtered_least.groupby('Make')[injuries].sum().reset_index()\n",
    "\n",
    "# Set the 'Make' column as the index for plotting\n",
    "injuries_by_make_least.set_index('Make', inplace=True)\n",
    "\n",
    "# Create a stacked bar plot\n",
    "ax = injuries_by_make_least.plot(kind='bar', stacked=True, figsize=(12, 8), colormap='viridis')\n",
    "\n",
    "# Customize the plot\n",
    "plt.title('Injury Levels by Aircraft Make (Least Accidents)')\n",
    "plt.xlabel('Aircraft Make')\n",
    "plt.ylabel('Number of Injuries')\n",
    "plt.xticks(rotation=45)\n",
    "plt.legend(title='Type of Injury', bbox_to_anchor=(1.05, 1), loc='upper left')\n",
    "plt.tight_layout()\n",
    "\n",
    "# Show the plot\n",
    "plt.show();"
   ]
  },
  {
   "cell_type": "markdown",
   "metadata": {},
   "source": [
    "**The bar plot portrays Greth, Griffith-boyd and Grice to have the incidents with most passengers on board uninjured. The company can consider Greth and Griffith-boyd as the most safe since they record the highest number of uninjured cases.**"
   ]
  },
  {
   "cell_type": "markdown",
   "metadata": {},
   "source": [
    "**3.Level of fatality if aircraft is built by Amateur**"
   ]
  },
  {
   "cell_type": "code",
   "execution_count": 36,
   "metadata": {},
   "outputs": [
    {
     "data": {
      "image/png": "[encoded data removed]",
      "text/plain": [
       "<Figure size 432x288 with 1 Axes>"
      ]
     },
     "metadata": {
      "needs_background": "light"
     },
     "output_type": "display_data"
    }
   ],
   "source": [
    "#Grouping by 'Amateur.Built' and counting injury severity\n",
    "df.groupby('Amateur.Built')['Injury.Severity'].value_counts(normalize = True).unstack('Injury.Severity').plot.bar(stacked = True)\n",
    "\n",
    "#Formatting\n",
    "plt.xticks(rotation = 0)\n",
    "plt.title('Fatality rate if built by amateur')\n",
    "plt.xlabel('')\n",
    "plt.legend(title = \"Injury Severity\",bbox_to_anchor=(1.4,1),loc='upper right') #The loc specifies the location of the legend in the plot\n",
    "plt.show();"
   ]
  },
  {
   "cell_type": "markdown",
   "metadata": {},
   "source": [
    "**The above visual depicts that aircrafts built by Amateurs(individuals who build or modify aircraft without a formal professional training) have a higher fatality rate compared to those who were built by experts.**"
   ]
  },
  {
   "cell_type": "markdown",
   "metadata": {},
   "source": [
    "**4. Comparing among the least incident Make manufacturers, which one is more recommendable in terms of ameteur built**"
   ]
  },
  {
   "cell_type": "code",
   "execution_count": 37,
   "metadata": {},
   "outputs": [
    {
     "data": {
      "image/png": "[encoded data removed]",
      "text/plain": [
       "<Figure size 864x576 with 1 Axes>"
      ]
     },
     "metadata": {
      "needs_background": "light"
     },
     "output_type": "display_data"
    }
   ],
   "source": [
    "# Group by 'Make' and count the number of accidents\n",
    "accidents_by_make = df.groupby('Make')['Accident.Number'].count().reset_index(name='Total_Accidents')\n",
    "\n",
    "# Sort and get the 10 Make manufacturers with the least accidents\n",
    "accidents_by_make_least = accidents_by_make.sort_values(by='Total_Accidents', ascending=False)\n",
    "least_10_makes = accidents_by_make_least.tail(10)['Make']\n",
    "\n",
    "# Filter the dataset for those least accident-prone manufacturers\n",
    "df_filtered_least = df[df['Make'].isin(least_10_makes)]\n",
    "\n",
    "# Combine the injury columns\n",
    "injuries = ['Total.Fatal.Injuries', 'Total.Serious.Injuries', 'Total.Minor.Injuries', 'Total.Uninjured']\n",
    "\n",
    "# Group by 'Make' and sum up the injuries for each make\n",
    "injuries_by_make_least = df_filtered_least.groupby(['Make','Amateur.Built'])[injuries].sum().reset_index()\n",
    "\n",
    "# Set the 'Make' column as the index for plotting\n",
    "injuries_by_make_least.set_index(['Make','Amateur.Built'], inplace=True)\n",
    "\n",
    "# Create a stacked bar plot\n",
    "ax = injuries_by_make_least.plot(kind='bar', stacked=True, figsize=(12, 8), colormap='viridis')\n",
    "\n",
    "# Customize the plot\n",
    "plt.title('Injury Levels by Aircraft Make (Least Accidents)')\n",
    "plt.xlabel('Aircraft Make and Amateur.Built')\n",
    "plt.ylabel('Number of Injuries')\n",
    "plt.xticks(rotation=80)\n",
    "plt.legend(title='Type of Injury', bbox_to_anchor=(1.05, 1), loc='upper left')\n",
    "plt.tight_layout()\n",
    "\n",
    "# Show the plot\n",
    "plt.show();"
   ]
  },
  {
   "cell_type": "markdown",
   "metadata": {},
   "source": [
    "**All the top 3 make manufacturers with high number of uninjured passengers onboard,were ameteur built. Nevertheless, Greth and Griffith-boyd can be considered as the most safe since they still record higher number of uninjured passengers on board**"
   ]
  },
  {
   "cell_type": "markdown",
   "metadata": {},
   "source": [
    "**5. Comparing number of accidents by Models for each Make**"
   ]
  },
  {
   "cell_type": "code",
   "execution_count": 38,
   "metadata": {},
   "outputs": [
    {
     "data": {
      "image/png": "[encoded data removed]",
      "text/plain": [
       "<Figure size 864x576 with 1 Axes>"
      ]
     },
     "metadata": {
      "needs_background": "light"
     },
     "output_type": "display_data"
    }
   ],
   "source": [
    "# Group by 'Make' and count the number of accidents\n",
    "accidents_by_make = df.groupby('Make')['Accident.Number'].count().reset_index(name='Total_Accidents')\n",
    "\n",
    "# Sort and get the 10 Make manufacturers with the least accidents\n",
    "accidents_by_make_least = accidents_by_make.sort_values(by='Total_Accidents', ascending=False)\n",
    "least_10_makes = accidents_by_make_least.tail(10)['Make']\n",
    "\n",
    "# Filter the dataset for those least accident-prone manufacturers\n",
    "df_filtered_least = df[df['Make'].isin(least_10_makes)]\n",
    "\n",
    "# Combine the injury columns\n",
    "injuries = ['Total.Fatal.Injuries', 'Total.Serious.Injuries', 'Total.Minor.Injuries', 'Total.Uninjured']\n",
    "\n",
    "# Group by 'Make' and 'Model', count accidents and sum injuries for each make and model\n",
    "accidents_injuries_by_make_model_least = df_filtered_least.groupby(['Make', 'Model'])[['Accident.Number'] + injuries].sum().reset_index()\n",
    "\n",
    "# Set the 'Make' and 'Model' columns as the index for plotting\n",
    "accidents_injuries_by_make_model_least.set_index(['Make', 'Model'], inplace=True)\n",
    "\n",
    "# Create a stacked bar plot for injuries and accidents\n",
    "ax = accidents_injuries_by_make_model_least.plot(kind='bar', stacked=True, figsize=(12, 8), colormap='viridis')\n",
    "\n",
    "# Customize the plot\n",
    "plt.title('Accidents and Injury Levels by Aircraft Make and Model (Least Accidents)')\n",
    "plt.xlabel('Aircraft Make and Model')\n",
    "plt.ylabel('Count')\n",
    "plt.xticks(rotation=80)  # Ensure the x-ticks are rotated for better readability\n",
    "plt.legend(title='Injury Level', bbox_to_anchor=(1.05, 1), loc='upper left')\n",
    "plt.tight_layout()\n",
    "\n",
    "# Show the plot\n",
    "plt.show();"
   ]
  },
  {
   "cell_type": "markdown",
   "metadata": {},
   "source": [
    "**Further in understanding which flight make is still less risky, i further analyzed the different Makes by model, apparently, Greth presents to have only 1 model same case to Griffith,which may explain the reason as to why there is more uninjured passengers for these flights. It reflects on the safety measures that are highly taken care of keenly and with focus.Therefore, the company may consider Greth and Griffith Make for the specific models**"
   ]
  },
  {
   "cell_type": "markdown",
   "metadata": {},
   "source": [
    "**6. Comparing between two selected flights, Greth and Griffith-Boyd, which one is more reliable in terms of engine type**"
   ]
  },
  {
   "cell_type": "code",
   "execution_count": 39,
   "metadata": {},
   "outputs": [
    {
     "data": {
      "image/png": "[encoded data removed]",
      "text/plain": [
       "<Figure size 864x576 with 1 Axes>"
      ]
     },
     "metadata": {
      "needs_background": "light"
     },
     "output_type": "display_data"
    }
   ],
   "source": [
    "#Plotting engine type and makes with least incident of accidents\n",
    "# Group by 'Make' and count the number of accidents\n",
    "accidents_by_make = df.groupby('Make')['Accident.Number'].count().reset_index(name='Total_Accidents')\n",
    "\n",
    "# Sort and get the 10 Make manufacturers with the least accidents\n",
    "accidents_by_make_least = accidents_by_make.sort_values(by='Total_Accidents', ascending=False)\n",
    "least_10_makes = accidents_by_make_least.tail(10)['Make']\n",
    "\n",
    "# Filter the dataset for those least accident-prone manufacturers\n",
    "df_filtered_least = df[df['Make'].isin(least_10_makes)]\n",
    "\n",
    "# Group by 'Make' and 'Engine.Type' to count the number of accidents for each combination\n",
    "accidents_by_engine_type = df_filtered_least.groupby(['Make', 'Engine.Type'])['Accident.Number'].count().unstack(fill_value=0)\n",
    "\n",
    "# Plot a bar chart\n",
    "ax = accidents_by_engine_type.plot(kind='bar', figsize=(12, 8), colormap='viridis')\n",
    "\n",
    "# Customize the plot\n",
    "plt.title('Accidents by Aircraft Make and Engine Type (Least Accidents)')\n",
    "plt.xlabel('Aircraft Make')\n",
    "plt.ylabel('Number of Accidents')\n",
    "plt.xticks(rotation=45)\n",
    "plt.legend(title='Engine Type', bbox_to_anchor=(1.05, 1), loc='upper left')\n",
    "plt.tight_layout()\n",
    "plt.show();"
   ]
  },
  {
   "cell_type": "markdown",
   "metadata": {},
   "source": [
    "**At this point, we can comfortably say that Griffith-boyd is more reliable to Greth since Griffith has a known engine type, by the name 'reciprocating', unlike Greth whose engine is not known. This can be highlighted from the assumption that, the engine could be recognized after the accident and probably for Greth, the level of damage was beyond recognition. Certain engine types may have better track records of safety (e.g., fewer incidents of mechanical failure), providing an indication of the overall quality of the flight experience.And for this case, it would be wise for the company to consider Griffith-boyd as the aircraft with the lowest risk.**"
   ]
  },
  {
   "cell_type": "markdown",
   "metadata": {},
   "source": [
    "**7.Overall Level of fatal injuries by Purpose of flight.**"
   ]
  },
  {
   "cell_type": "code",
   "execution_count": 40,
   "metadata": {},
   "outputs": [
    {
     "data": {
      "image/png": "[encoded data removed]",
      "text/plain": [
       "<Figure size 432x288 with 1 Axes>"
      ]
     },
     "metadata": {
      "needs_background": "light"
     },
     "output_type": "display_data"
    }
   ],
   "source": [
    "#This specific analysis will help to identify safety measures and which aircrafts are most risky in terms of commercial or personal purposes.\n",
    "# This will also shed light on safety measures for the different aircrafts.\n",
    "# The code will plot fatal injuries against purpose of flight\n",
    "injuries=df.groupby('Purpose.of.flight')['Total.Fatal.Injuries'].count().reset_index()\n",
    "injuries =injuries.sort_values(by='Total.Fatal.Injuries', ascending=False)\n",
    "sns.barplot(data=injuries.head(12),x='Purpose.of.flight',y='Total.Fatal.Injuries')\n",
    "plt.title('Level of fatal injuries by purpose of flight')\n",
    "plt.xlabel('Purpose of flight')\n",
    "plt.ylabel('Total fatal injuries')\n",
    "plt.xticks(rotation=80)\n",
    "plt.tight_layout()\n",
    "plt.show();\n"
   ]
  },
  {
   "cell_type": "markdown",
   "metadata": {},
   "source": [
    "**The Graph highlights that overall, flights that are usually for personal reasons are more risky because they portray high fatal injuries. Unlike the executive/Corporate flights which portray to be less risky as they are less fatal. This highlights that the corporate flights are safer and the company can consider them with the specific Flight Make settled for.**"
   ]
  },
  {
   "cell_type": "markdown",
   "metadata": {},
   "source": [
    "**8.Recommendable months of the year for travelling**"
   ]
  },
  {
   "cell_type": "code",
   "execution_count": 52,
   "metadata": {},
   "outputs": [
    {
     "data": {
      "text/plain": [
       "array([10,  7,  8,  6,  2,  9,  1,  3,  4,  5, 11, 12], dtype=int64)"
      ]
     },
     "execution_count": 52,
     "metadata": {},
     "output_type": "execute_result"
    }
   ],
   "source": [
    "df['month'].unique()"
   ]
  },
  {
   "cell_type": "code",
   "execution_count": 41,
   "metadata": {},
   "outputs": [],
   "source": [
    "#Creating a new column for assigning each month a month name\n",
    "# Define month mapping\n",
    "month_mapping = {\n",
    "    1: 'January', 2: 'February', 3: 'March', 4: 'April', \n",
    "    5: 'May', 6: 'June', 7: 'July', 8: 'August', \n",
    "    9: 'September', 10: 'October', 11: 'November', 12: 'December'\n",
    "}\n",
    "\n",
    "# Map days to month names\n",
    "df['month_name'] = df['day'].map(month_mapping)"
   ]
  },
  {
   "cell_type": "code",
   "execution_count": 42,
   "metadata": {},
   "outputs": [
    {
     "data": {
      "text/plain": [
       "12"
      ]
     },
     "execution_count": 42,
     "metadata": {},
     "output_type": "execute_result"
    }
   ],
   "source": [
    "df['month_name'].nunique()"
   ]
  },
  {
   "cell_type": "code",
   "execution_count": 44,
   "metadata": {},
   "outputs": [
    {
     "data": {
      "image/png": "[encoded data removed]",
      "text/plain": [
       "<Figure size 864x432 with 1 Axes>"
      ]
     },
     "metadata": {
      "needs_background": "light"
     },
     "output_type": "display_data"
    }
   ],
   "source": [
    "# Group by month name and count the number of accidents\n",
    "accidents_per_month = df.groupby('month_name')['Event.Id'].count().reset_index()\n",
    "\n",
    "# Sort by month order\n",
    "month_order = ['January', 'February', 'March', 'April', 'May', \n",
    "               'June', 'July', 'August', 'September', 'October', \n",
    "               'November', 'December']\n",
    "accidents_per_month['month_name'] = pd.Categorical(accidents_per_month['month_name'], \n",
    "                                                    categories=month_order, \n",
    "                                                    ordered=True)\n",
    "accidents_per_month = accidents_per_month.sort_values('month_name')\n",
    "\n",
    "# Plotting\n",
    "plt.figure(figsize=(12, 6))\n",
    "sns.barplot(x='month_name', y='Event.Id', data=accidents_per_month, palette='viridis')\n",
    "plt.title('Number of Accidents per Month')\n",
    "plt.xlabel('Month')\n",
    "plt.ylabel('Number of Accidents')\n",
    "plt.xticks(rotation=45)\n",
    "plt.tight_layout()\n",
    "plt.show();"
   ]
  },
  {
   "cell_type": "markdown",
   "metadata": {},
   "source": [
    "**From the graph, July and August presents to have the highest number of accidents. So it would be safe to say that during Summer there are high incidents of flight accidents, while during winter(November, December, January), there are less flight accidents. Therefore, winter is more safe for flight travel.**"
   ]
  },
  {
   "cell_type": "markdown",
   "metadata": {},
   "source": [
    "**Conclusion**\n",
    "\n",
    "1. The Flight Makes with least number of flight accidents entailed; Grigg/bowers,Griffith-boyd,Griffin-Thomas,Grieme,Grice,Gribosh,Greth,Gregg and Greg Smith.\n",
    "\n",
    "2. Out of the 10 flight makes with least incidents, the ones which had higher records of uninjured passengers onboard entailed;Grice,Griffith-boyd and Greth.\n",
    "\n",
    "3. Out of the 3 makes, Griffith-boyd and Greth presented to have higher records of uninjured passengers compared to Grice.\n",
    "\n",
    "4. Further, the 2 top Makes with highest number of uninjured passengers were compared based on Ameteur Built, Model and Engine Type. Both Griffith-boyd and Greth presented to have 1 model each and were all Ameteur Built. However, Greth did not have a defined engine type, therefore it was ruled out.\n",
    "\n",
    "5. With that,Griffith-boyd presented to be the most reliable and less risky aircraft model since it had a defined engine type by the name 'reciprocating'. Having a specific engine type would translate that there is a better track records of safety providing an indication of the overall quality of the flight experience.\n",
    "\n",
    "6. In terms of overall analysis, executive/corporate flights presented to have fewer accidents. With personal flights leading with the highest accident incidents, executive/corporate appeared 12th in the rank with least incidents.\n",
    "\n",
    "7. Lastly, summer seasons(June, July, August) presented to have higher incidents of flight accidents compared to winter seasons(November, December, January).\n"
   ]
  },
  {
   "cell_type": "markdown",
   "metadata": {},
   "source": [
    "**Recommendations**"
   ]
  },
  {
   "cell_type": "markdown",
   "metadata": {},
   "source": [
    "1. It is recommandable that the company considers Griffith-boyd Make as the most reliable and safe aircraft.\n",
    "2. In terms of operations, the company can opt for executive/corporate flight business compared to personal flight business.\n",
    "3. Lastly, once in operation, the company can limit the number of flights in operation during summer seasons or implement more protective gears during that season to counter the chances of the many accidents that occur during that period."
   ]
  },
  {
   "cell_type": "code",
   "execution_count": null,
   "metadata": {},
   "outputs": [],
   "source": [
    "# Exporting the cleaned file to excel for analysis in tableau\n",
    "df.to_excel('cleaned_data.xlsx', index=False)"
   ]
  },
  {
   "cell_type": "code",
   "execution_count": null,
   "metadata": {},
   "outputs": [],
   "source": [
    "# Confirm the location of the exported file\n",
    "import os\n",
    "print(os.getcwd())"
   ]
  }
 ],
 "metadata": {
  "kernelspec": {
   "display_name": "Python (learn-env)",
   "language": "python",
   "name": "learn-env"
  },
  "language_info": {
   "codemirror_mode": {
    "name": "ipython",
    "version": 3
   },
   "file_extension": ".py",
   "mimetype": "text/x-python",
   "name": "python",
   "nbconvert_exporter": "python",
   "pygments_lexer": "ipython3",
   "version": "3.8.5"
  }
 },
 "nbformat": 4,
 "nbformat_minor": 4
}
